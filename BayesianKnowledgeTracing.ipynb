{
 "cells": [
  {
   "cell_type": "code",
   "execution_count": 1,
   "metadata": {},
   "outputs": [
    {
     "name": "stdout",
     "output_type": "stream",
     "text": [
      "Pyro: 1.8.4\n",
      "torch: 1.11.0+cu113\n"
     ]
    }
   ],
   "source": [
    "import torch\n",
    "import numpy as np\n",
    "import pandas as pd\n",
    "import seaborn as sns\n",
    "import matplotlib.pyplot as plt\n",
    "\n",
    "import pyro\n",
    "import pyro.distributions as dist\n",
    "\n",
    "print('Pyro:', pyro.__version__)\n",
    "print('torch:', torch.__version__)"
   ]
  },
  {
   "attachments": {},
   "cell_type": "markdown",
   "metadata": {},
   "source": [
    "# Bayes' theorem\n",
    "\n",
    "https://jrnold.github.io/bayesian_notes/bayes-theorem.html\n",
    "\n",
    "$$P(A \\vert B) = \\dfrac{P(A, B)}{P(B)} = \\dfrac{P(B \\vert A) P(A)}{P(B)}$$\n",
    "\n",
    "https://youtu.be/kqSzLo9fenk\n"
   ]
  },
  {
   "attachments": {},
   "cell_type": "markdown",
   "metadata": {},
   "source": [
    "# An Introduction to Bayesian Knowledge Tracing\n",
    "\n",
    "> Beck, Joseph E., et al. \"Does help help? Introducing the Bayesian Evaluation and Assessment methodology.\" Intelligent Tutoring Systems: 9th International Conference, ITS 2008, Montreal, Canada, June 23-27, 2008 Proceedings 9. Springer Berlin Heidelberg, 2008.\n",
    "> \n",
    "> [link](https://link.springer.com/chapter/10.1007/978-3-540-69132-7_42)\n",
    "\n",
    "> Corbett, Albert T., and John R. Anderson. \"Knowledge tracing: Modeling the acquisition of procedural knowledge.\" User modeling and user-adapted interaction 4 (1994): 253-278.\n",
    ">\n",
    "> [link](http://act-r.psy.cmu.edu/wordpress/wp-content/uploads/2012/12/893CorbettAnderson1995.pdf)\n",
    "\n",
    "> Yudelson, Michael V., Kenneth R. Koedinger, and Geoffrey J. Gordon. \"Individualized bayesian knowledge tracing models.\" Artificial Intelligence in Education: 16th International Conference, AIED 2013, Memphis, TN, USA, July 9-13, 2013. Proceedings 16. Springer Berlin Heidelberg, 2013.\n",
    "> \n",
    "> [link](https://www.cs.cmu.edu/~ggordon/yudelson-koedinger-gordon-individualized-bayesian-knowledge-tracing.pdf)\n",
    "\n",
    "> Hawkins, William J., Neil T. Heffernan, and Ryan SJD Baker. \"Learning Bayesian knowledge tracing parameters with a knowledge heuristic and empirical probabilities.\" Intelligent Tutoring Systems: 12th International Conference, ITS 2014, Honolulu, HI, USA, June 5-9, 2014. Proceedings 12. Springer International Publishing, 2014.\n",
    ">\n",
    "> [link](https://learninganalytics.upenn.edu/ryanbaker/paper_143.pdf)\n",
    "\n",
    "Other papers:\n",
    "\n",
    "* https://arxiv.org/pdf/2105.00385.pdf\n",
    "* https://educationaldatamining.org/edm2022/proceedings/2022.EDM-long-papers.5/2022.EDM-long-papers.5.pdf\n",
    "\n",
    "Bayesian Knowledge Tracing is a method to modelding student's knowledges.\n",
    "\n",
    "* Student knowledge: binary variables (student learns a skill = mastered / not mastered)\n",
    "* Observations: binary variables (student solves a problem = right / wrong)\n",
    "\n",
    "## Problem setting\n",
    "\n",
    "### Model Parameters\n",
    "\n",
    "* Students: $U$, Skills: $K$, Learned: $L=\\lbrace 0, 1\\rbrace$, Transit: $T=\\lbrace 0, 1\\rbrace$, Slip: $S=\\lbrace 0, 1\\rbrace$, Guess: $G=\\lbrace 0, 1\\rbrace$\n",
    "\n",
    "* $p(L_0)$ (or *p-init*): Initial probability of knowing the skill a priori\n",
    "* $p(T)$ (or *p-transit*): Probability of student's knowledge of a skill transitioning from *not known* to *known* state after an opportunity to apply it\n",
    "* $p(S)$ (or *p-slip*): Probability to make a mistake when applying a known skill.\n",
    "* $p(G)$ (or *p-guess*): probability of correctly applying a not-known skill.\n",
    "\n",
    "The initial probability of student $u$ mastering skill $k$:\n",
    "\n",
    "$$p(L_1)^k_u = p(L_0)^k$$ \n",
    "\n",
    "Whether the student $u$ applied skill $k$(=solve a problem) correctly(1) or incorrectly(0):\n",
    "\n",
    "$$\\begin{aligned}\n",
    "p(L_{t+1}\\vert \\text{obs} = 1)^k_u &= \\dfrac{p(L_t)^k_u \\cdot \\big(1 - p(S)^k \\big)}{p(L_t)^k_u \\cdot \\big( 1 - p(S)^k\\big) + \\big( 1 - p(L_t)^k_u \\big) \\cdot p(G)^k} \\\\\n",
    "p(L_{t+1}\\vert \\text{obs} = 0)^k_u &= \\dfrac{p(L_t)^k_u \\cdot p(S)^k}{p(L_t)^k_u \\cdot p(S)^k + \\big( 1 - p(L_t)^k_u \\big) \\cdot \\big( 1 - p(G)^k \\big)}\n",
    "\\end{aligned}$$\n",
    "\n",
    "* $p(L_t)^k_u \\cdot \\big(1 - p(S)^k \\big)$: Probability that learn the skill doesn't make mistake at $t$.\n",
    "* $p(L_t)^k_u \\cdot p(S)^k$: Probability that learn the skill but make mistake at $t$.\n",
    "* $\\big( 1 - p(L_t)^k_u \\big) \\cdot p(G)^k$: Probability that doesn't learn the skill but guess correct.\n",
    "* $\\big( 1 - p(L_t)^k_u \\big) \\cdot \\big( 1 - p(G)^k \\big)$: Probability that doesn't learn the skill but guess wrong.\n",
    "\n",
    "The probability of skill mastery: \n",
    "\n",
    "$$p(L_{t+1}) = p(L_{t+1}\\vert \\text{obs}) + \\big(1 - p(L_{t+1} \\vert obs) \\big) \\cdot p(T)^k$$\n",
    "\n",
    "The probability of student $u$ applying the skill $k$ correctly on an upcomming practices opportunity:\n",
    "\n",
    "$$p(C_{t+1})^k_u = p(L_t)^k_u \\cdot \\big(1-p(S)^k\\big) + \\big(1 - p(L_t)^k_u \\big) \\cdot p(G)^k $$\n",
    "\n",
    "<img src=\"./figs/BKT_params.png\">"
   ]
  },
  {
   "attachments": {},
   "cell_type": "markdown",
   "metadata": {},
   "source": [
    "### Solve\n",
    "\n",
    "1. Evaluation Problem: Given $\\lambda = \\lbrace \\Pi, A, B \\rbrace$ and sequence of boservations(practice attempts) $O=\\lbrace o_t \\rbrace$, $t=\\in [1, T]$, calculate the probability that observations are generated given BKT model: $p\\lbrace O \\vert \\lambda \\rbrace $\n",
    "2. Learning Problem: Given BKT paramaters $\\lambda$ and a sequence of observations $O$, how should $\\lambda$ be adjusted to maximize $p\\lbrace O \\vert \\lambda \\rbrace$"
   ]
  },
  {
   "cell_type": "code",
   "execution_count": 40,
   "metadata": {},
   "outputs": [
    {
     "name": "stdout",
     "output_type": "stream",
     "text": [
      "torch.Size([10, 5, 2])\n",
      "First student correctness\n",
      "tensor([[1, 0],\n",
      "        [1, 0],\n",
      "        [1, 1],\n",
      "        [0, 0],\n",
      "        [0, 0],\n",
      "        [0, 1],\n",
      "        [0, 1],\n",
      "        [0, 1],\n",
      "        [1, 0],\n",
      "        [1, 1]])\n"
     ]
    }
   ],
   "source": [
    "# Define data\n",
    "num_skills = 2  # number of skills\n",
    "num_students = 5  # number of students\n",
    "num_obs = 10  # number of observations (exercises)\n",
    "\n",
    "data = torch.randint(2, size=(num_obs, num_students, num_skills))  # T, U, K\n",
    "print(data.shape)\n",
    "print('First student correctness')\n",
    "print(data[:, 0, :])  # first student\n"
   ]
  },
  {
   "attachments": {},
   "cell_type": "markdown",
   "metadata": {},
   "source": [
    "**skip this part**\n",
    "\n",
    "---\n",
    "\n",
    "Initialize the probabilities with 4th reference:\n",
    "\n",
    "$$\\begin{aligned} \n",
    "p(L_0) &= \\dfrac{\\sum K_0}{\\vert K_0 \\vert}\\\\\n",
    "P(T) &= \\dfrac{\\sum_{i \\neq 0}(1 - K_{i-1})K_i}{\\sum_{i \\neq 0} (1 - K_{i-1})} \\\\\n",
    "P(G) &= \\dfrac{\\sum_i C_i (1 - K_i)}{\\sum_i (1-K_i)}\\\\\n",
    "P(S) &= \\dfrac{\\sum_i (1 - C_i) K_i}{\\sum_i K_i}\n",
    "\\end{aligned}$$\n",
    "\n",
    "* Here, $K_i$ means the knowledge at problem $i$ (known = 1, unknown = 0), $C_i$ means the correctness at problem $i$ (correct = 1, not correct = 0).\n",
    "\n",
    "---"
   ]
  },
  {
   "cell_type": "code",
   "execution_count": 46,
   "metadata": {},
   "outputs": [],
   "source": [
    "# initial probabilities\n",
    "L_init = torch.tensor(0.5).expand([num_skills])  # K\n",
    "p_mastery = torch.ones([num_students, num_skills]) * L_init  # U, K\n",
    "p_transit = torch.tensor(0.5).expand([num_students, num_skills])  # U, K\n",
    "p_slip = torch.tensor(0.5).expand([num_students, num_skills])  # U, K\n",
    "p_guess = torch.tensor(0.5).expand([num_students, num_skills])  # U, K"
   ]
  },
  {
   "cell_type": "code",
   "execution_count": 49,
   "metadata": {},
   "outputs": [],
   "source": [
    "i = 0\n",
    "mask = data[i] == 1"
   ]
  },
  {
   "cell_type": "code",
   "execution_count": 50,
   "metadata": {},
   "outputs": [
    {
     "data": {
      "text/plain": [
       "tensor([[ True, False],\n",
       "        [ True, False],\n",
       "        [ True, False],\n",
       "        [ True,  True],\n",
       "        [False,  True]])"
      ]
     },
     "execution_count": 50,
     "metadata": {},
     "output_type": "execute_result"
    }
   ],
   "source": [
    "mask"
   ]
  },
  {
   "cell_type": "code",
   "execution_count": null,
   "metadata": {},
   "outputs": [],
   "source": []
  },
  {
   "cell_type": "code",
   "execution_count": 22,
   "metadata": {},
   "outputs": [
    {
     "name": "stdout",
     "output_type": "stream",
     "text": [
      "tensor([[0],\n",
      "        [0],\n",
      "        [1],\n",
      "        [0],\n",
      "        [1]])\n"
     ]
    }
   ],
   "source": [
    "for i in range(len(data)):\n",
    "    # L_{t+1} \n",
    "    print(data[i])\n",
    "    mask = data[i] == 1\n",
    "    data[i][mask]\n",
    "    break"
   ]
  },
  {
   "cell_type": "code",
   "execution_count": 25,
   "metadata": {},
   "outputs": [
    {
     "data": {
      "text/plain": [
       "tensor([0.3333, 0.3333])"
      ]
     },
     "execution_count": 25,
     "metadata": {},
     "output_type": "execute_result"
    }
   ],
   "source": [
    "p_mastery[mask] * (1 - )"
   ]
  },
  {
   "cell_type": "code",
   "execution_count": 19,
   "metadata": {},
   "outputs": [
    {
     "data": {
      "text/plain": [
       "tensor([[False],\n",
       "        [False],\n",
       "        [ True],\n",
       "        [False],\n",
       "        [ True]])"
      ]
     },
     "execution_count": 19,
     "metadata": {},
     "output_type": "execute_result"
    }
   ],
   "source": [
    "data[i] == 1"
   ]
  },
  {
   "cell_type": "code",
   "execution_count": null,
   "metadata": {},
   "outputs": [],
   "source": [
    "data_init"
   ]
  },
  {
   "attachments": {},
   "cell_type": "markdown",
   "metadata": {},
   "source": [
    "### Pyro\n",
    "\n",
    "http://pyro.ai/examples/svi_part_i.html"
   ]
  },
  {
   "attachments": {},
   "cell_type": "markdown",
   "metadata": {},
   "source": [
    "* latent random variables $z$ $\\iff$ `pyro.sample`\n",
    "* observed random variables $x$ $\\iff$ `pyro.sample` with the `obs` keyword argument\n",
    "* learnable parameters $\\theta$ $\\iff$ `pyro.param`\n",
    "* plates $\\iff$ `pyro.plate` context managers"
   ]
  },
  {
   "cell_type": "code",
   "execution_count": null,
   "metadata": {},
   "outputs": [],
   "source": [
    "import pyro\n",
    "import pyro.distributions as dist\n",
    "\n",
    "pyro.clear_param_store()"
   ]
  },
  {
   "cell_type": "code",
   "execution_count": null,
   "metadata": {},
   "outputs": [],
   "source": [
    "\n",
    "from pyro.nn import PyroModule, PyroParam, PyroSample\n",
    "from pyro.infer import SVI, Trace_ELBO, Predictive\n",
    "import torch"
   ]
  },
  {
   "cell_type": "code",
   "execution_count": null,
   "metadata": {},
   "outputs": [],
   "source": [
    "init_prob = pyro.sample('L_init', dist.Beta(1, 1))\n",
    "learn_prob = pyro.sample('L', dist.Beta(1, 1))\n",
    "guess_prob = pyro.sample('G', dist.Beta(1, 1))\n",
    "slip_prob = pyro.sample('S', dist.Beta(1, 1))\n",
    "\n",
    "p_mastered = torch.ones((num_students, num_skills)) * init_prob\n",
    "\n",
    "for i in range(len(data)):\n",
    "    correct_prob = p_mastered * (1 - slip_prob) + (1 - p_mastered) * guess_prob"
   ]
  },
  {
   "cell_type": "code",
   "execution_count": 45,
   "metadata": {},
   "outputs": [
    {
     "name": "stderr",
     "output_type": "stream",
     "text": [
      "Warmup:   0%|          | 0/1100 [00:00, ?it/s]"
     ]
    },
    {
     "ename": "ValueError",
     "evalue": "Expected reinterpreted_batch_ndims <= len(base_distribution.batch_shape), actual 1 vs 0\n  Trace Shapes:  \n   Param Sites:  \n  Sample Sites:  \n init_prob dist |\n          value |\nlearn_prob dist |\n          value |\nguess_prob dist |\n          value |\n slip_prob dist |\n          value |",
     "output_type": "error",
     "traceback": [
      "\u001b[1;31m---------------------------------------------------------------------------\u001b[0m",
      "\u001b[1;31mValueError\u001b[0m                                Traceback (most recent call last)",
      "File \u001b[1;32mc:\\Users\\simon\\.virtualenvs\\probabilistic_programming-fP321iZ6\\lib\\site-packages\\pyro\\poutine\\trace_messenger.py:174\u001b[0m, in \u001b[0;36mTraceHandler.__call__\u001b[1;34m(self, *args, **kwargs)\u001b[0m\n\u001b[0;32m    173\u001b[0m \u001b[39mtry\u001b[39;00m:\n\u001b[1;32m--> 174\u001b[0m     ret \u001b[39m=\u001b[39m \u001b[39mself\u001b[39m\u001b[39m.\u001b[39mfn(\u001b[39m*\u001b[39margs, \u001b[39m*\u001b[39m\u001b[39m*\u001b[39mkwargs)\n\u001b[0;32m    175\u001b[0m \u001b[39mexcept\u001b[39;00m (\u001b[39mValueError\u001b[39;00m, \u001b[39mRuntimeError\u001b[39;00m) \u001b[39mas\u001b[39;00m e:\n",
      "Cell \u001b[1;32mIn[45], line 23\u001b[0m, in \u001b[0;36mbkt_model\u001b[1;34m(data)\u001b[0m\n\u001b[0;32m     22\u001b[0m \u001b[39m# Likelihood of response\u001b[39;00m\n\u001b[1;32m---> 23\u001b[0m pyro\u001b[39m.\u001b[39msample(\u001b[39mf\u001b[39m\u001b[39m\"\u001b[39m\u001b[39mobs_\u001b[39m\u001b[39m{\u001b[39;00mi\u001b[39m}\u001b[39;00m\u001b[39m\"\u001b[39m, dist\u001b[39m.\u001b[39;49mBernoulli(p_correct)\u001b[39m.\u001b[39;49mto_event(\u001b[39m1\u001b[39;49m), obs\u001b[39m=\u001b[39mdata[i])\n\u001b[0;32m     25\u001b[0m \u001b[39m# Update probability of mastery\u001b[39;00m\n",
      "File \u001b[1;32mc:\\Users\\simon\\.virtualenvs\\probabilistic_programming-fP321iZ6\\lib\\site-packages\\pyro\\distributions\\torch_distribution.py:194\u001b[0m, in \u001b[0;36mTorchDistributionMixin.to_event\u001b[1;34m(self, reinterpreted_batch_ndims)\u001b[0m\n\u001b[0;32m    191\u001b[0m     \u001b[39mraise\u001b[39;00m \u001b[39mValueError\u001b[39;00m(\n\u001b[0;32m    192\u001b[0m         \u001b[39m\"\u001b[39m\u001b[39mCannot remove event dimensions from \u001b[39m\u001b[39m{}\u001b[39;00m\u001b[39m\"\u001b[39m\u001b[39m.\u001b[39mformat(\u001b[39mtype\u001b[39m(\u001b[39mself\u001b[39m))\n\u001b[0;32m    193\u001b[0m     )\n\u001b[1;32m--> 194\u001b[0m \u001b[39mreturn\u001b[39;00m pyro\u001b[39m.\u001b[39;49mdistributions\u001b[39m.\u001b[39;49mtorch\u001b[39m.\u001b[39;49mIndependent(\n\u001b[0;32m    195\u001b[0m     base_dist, reinterpreted_batch_ndims\n\u001b[0;32m    196\u001b[0m )\n",
      "File \u001b[1;32mc:\\Users\\simon\\.virtualenvs\\probabilistic_programming-fP321iZ6\\lib\\site-packages\\pyro\\distributions\\distribution.py:24\u001b[0m, in \u001b[0;36mDistributionMeta.__call__\u001b[1;34m(cls, *args, **kwargs)\u001b[0m\n\u001b[0;32m     23\u001b[0m         \u001b[39mreturn\u001b[39;00m result\n\u001b[1;32m---> 24\u001b[0m \u001b[39mreturn\u001b[39;00m \u001b[39msuper\u001b[39m()\u001b[39m.\u001b[39m\u001b[39m__call__\u001b[39m(\u001b[39m*\u001b[39margs, \u001b[39m*\u001b[39m\u001b[39m*\u001b[39mkwargs)\n",
      "File \u001b[1;32mc:\\Users\\simon\\.virtualenvs\\probabilistic_programming-fP321iZ6\\lib\\site-packages\\torch\\distributions\\independent.py:38\u001b[0m, in \u001b[0;36mIndependent.__init__\u001b[1;34m(self, base_distribution, reinterpreted_batch_ndims, validate_args)\u001b[0m\n\u001b[0;32m     37\u001b[0m \u001b[39mif\u001b[39;00m reinterpreted_batch_ndims \u001b[39m>\u001b[39m \u001b[39mlen\u001b[39m(base_distribution\u001b[39m.\u001b[39mbatch_shape):\n\u001b[1;32m---> 38\u001b[0m     \u001b[39mraise\u001b[39;00m \u001b[39mValueError\u001b[39;00m(\u001b[39m\"\u001b[39m\u001b[39mExpected reinterpreted_batch_ndims <= len(base_distribution.batch_shape), \u001b[39m\u001b[39m\"\u001b[39m\n\u001b[0;32m     39\u001b[0m                      \u001b[39m\"\u001b[39m\u001b[39mactual \u001b[39m\u001b[39m{}\u001b[39;00m\u001b[39m vs \u001b[39m\u001b[39m{}\u001b[39;00m\u001b[39m\"\u001b[39m\u001b[39m.\u001b[39mformat(reinterpreted_batch_ndims,\n\u001b[0;32m     40\u001b[0m                                               \u001b[39mlen\u001b[39m(base_distribution\u001b[39m.\u001b[39mbatch_shape)))\n\u001b[0;32m     41\u001b[0m shape \u001b[39m=\u001b[39m base_distribution\u001b[39m.\u001b[39mbatch_shape \u001b[39m+\u001b[39m base_distribution\u001b[39m.\u001b[39mevent_shape\n",
      "\u001b[1;31mValueError\u001b[0m: Expected reinterpreted_batch_ndims <= len(base_distribution.batch_shape), actual 1 vs 0",
      "\nThe above exception was the direct cause of the following exception:\n",
      "\u001b[1;31mValueError\u001b[0m                                Traceback (most recent call last)",
      "Cell \u001b[1;32mIn[45], line 36\u001b[0m\n\u001b[0;32m     34\u001b[0m kernel \u001b[39m=\u001b[39m NUTS(bkt_model)\n\u001b[0;32m     35\u001b[0m mcmc \u001b[39m=\u001b[39m MCMC(kernel, num_samples\u001b[39m=\u001b[39m\u001b[39m1000\u001b[39m, warmup_steps\u001b[39m=\u001b[39m\u001b[39m100\u001b[39m)\n\u001b[1;32m---> 36\u001b[0m mcmc\u001b[39m.\u001b[39;49mrun(data)\n\u001b[0;32m     38\u001b[0m \u001b[39m# Extract posterior samples for the initial probability of mastery\u001b[39;00m\n\u001b[0;32m     39\u001b[0m init_prob_samples \u001b[39m=\u001b[39m mcmc\u001b[39m.\u001b[39mget_samples()[\u001b[39m\"\u001b[39m\u001b[39minit_prob\u001b[39m\u001b[39m\"\u001b[39m]\n",
      "File \u001b[1;32mc:\\Users\\simon\\.virtualenvs\\probabilistic_programming-fP321iZ6\\lib\\site-packages\\pyro\\poutine\\messenger.py:12\u001b[0m, in \u001b[0;36m_context_wrap\u001b[1;34m(context, fn, *args, **kwargs)\u001b[0m\n\u001b[0;32m     10\u001b[0m \u001b[39mdef\u001b[39;00m \u001b[39m_context_wrap\u001b[39m(context, fn, \u001b[39m*\u001b[39margs, \u001b[39m*\u001b[39m\u001b[39m*\u001b[39mkwargs):\n\u001b[0;32m     11\u001b[0m     \u001b[39mwith\u001b[39;00m context:\n\u001b[1;32m---> 12\u001b[0m         \u001b[39mreturn\u001b[39;00m fn(\u001b[39m*\u001b[39margs, \u001b[39m*\u001b[39m\u001b[39m*\u001b[39mkwargs)\n",
      "File \u001b[1;32mc:\\Users\\simon\\.virtualenvs\\probabilistic_programming-fP321iZ6\\lib\\site-packages\\pyro\\infer\\mcmc\\api.py:563\u001b[0m, in \u001b[0;36mMCMC.run\u001b[1;34m(self, *args, **kwargs)\u001b[0m\n\u001b[0;32m    554\u001b[0m \u001b[39mwith\u001b[39;00m optional(\n\u001b[0;32m    555\u001b[0m     pyro\u001b[39m.\u001b[39mvalidation_enabled(\u001b[39mnot\u001b[39;00m \u001b[39mself\u001b[39m\u001b[39m.\u001b[39mdisable_validation),\n\u001b[0;32m    556\u001b[0m     \u001b[39mself\u001b[39m\u001b[39m.\u001b[39mdisable_validation \u001b[39mis\u001b[39;00m \u001b[39mnot\u001b[39;00m \u001b[39mNone\u001b[39;00m,\n\u001b[1;32m   (...)\u001b[0m\n\u001b[0;32m    560\u001b[0m     \u001b[39m# This also resolves \"RuntimeError: Cowardly refusing to serialize non-leaf tensor which\u001b[39;00m\n\u001b[0;32m    561\u001b[0m     \u001b[39m# requires_grad\", which happens with `jit_compile` under PyTorch 1.7\u001b[39;00m\n\u001b[0;32m    562\u001b[0m     args \u001b[39m=\u001b[39m [arg\u001b[39m.\u001b[39mdetach() \u001b[39mif\u001b[39;00m torch\u001b[39m.\u001b[39mis_tensor(arg) \u001b[39melse\u001b[39;00m arg \u001b[39mfor\u001b[39;00m arg \u001b[39min\u001b[39;00m args]\n\u001b[1;32m--> 563\u001b[0m     \u001b[39mfor\u001b[39;00m x, chain_id \u001b[39min\u001b[39;00m \u001b[39mself\u001b[39m\u001b[39m.\u001b[39msampler\u001b[39m.\u001b[39mrun(\u001b[39m*\u001b[39margs, \u001b[39m*\u001b[39m\u001b[39m*\u001b[39mkwargs):\n\u001b[0;32m    564\u001b[0m         \u001b[39mif\u001b[39;00m num_samples[chain_id] \u001b[39m==\u001b[39m \u001b[39m0\u001b[39m:\n\u001b[0;32m    565\u001b[0m             num_samples[chain_id] \u001b[39m+\u001b[39m\u001b[39m=\u001b[39m \u001b[39m1\u001b[39m\n",
      "File \u001b[1;32mc:\\Users\\simon\\.virtualenvs\\probabilistic_programming-fP321iZ6\\lib\\site-packages\\pyro\\infer\\mcmc\\api.py:223\u001b[0m, in \u001b[0;36m_UnarySampler.run\u001b[1;34m(self, *args, **kwargs)\u001b[0m\n\u001b[0;32m    221\u001b[0m logger \u001b[39m=\u001b[39m initialize_logger(logger, \u001b[39m\"\u001b[39m\u001b[39m\"\u001b[39m, progress_bar)\n\u001b[0;32m    222\u001b[0m hook_w_logging \u001b[39m=\u001b[39m _add_logging_hook(logger, progress_bar, \u001b[39mself\u001b[39m\u001b[39m.\u001b[39mhook)\n\u001b[1;32m--> 223\u001b[0m \u001b[39mfor\u001b[39;00m sample \u001b[39min\u001b[39;00m _gen_samples(\n\u001b[0;32m    224\u001b[0m     \u001b[39mself\u001b[39m\u001b[39m.\u001b[39mkernel,\n\u001b[0;32m    225\u001b[0m     \u001b[39mself\u001b[39m\u001b[39m.\u001b[39mwarmup_steps,\n\u001b[0;32m    226\u001b[0m     \u001b[39mself\u001b[39m\u001b[39m.\u001b[39mnum_samples,\n\u001b[0;32m    227\u001b[0m     hook_w_logging,\n\u001b[0;32m    228\u001b[0m     i \u001b[39mif\u001b[39;00m \u001b[39mself\u001b[39m\u001b[39m.\u001b[39mnum_chains \u001b[39m>\u001b[39m \u001b[39m1\u001b[39m \u001b[39melse\u001b[39;00m \u001b[39mNone\u001b[39;00m,\n\u001b[0;32m    229\u001b[0m     \u001b[39m*\u001b[39margs,\n\u001b[0;32m    230\u001b[0m     \u001b[39m*\u001b[39m\u001b[39m*\u001b[39mkwargs\n\u001b[0;32m    231\u001b[0m ):\n\u001b[0;32m    232\u001b[0m     \u001b[39myield\u001b[39;00m sample, i  \u001b[39m# sample, chain_id\u001b[39;00m\n\u001b[0;32m    233\u001b[0m \u001b[39mself\u001b[39m\u001b[39m.\u001b[39mkernel\u001b[39m.\u001b[39mcleanup()\n",
      "File \u001b[1;32mc:\\Users\\simon\\.virtualenvs\\probabilistic_programming-fP321iZ6\\lib\\site-packages\\pyro\\infer\\mcmc\\api.py:144\u001b[0m, in \u001b[0;36m_gen_samples\u001b[1;34m(kernel, warmup_steps, num_samples, hook, chain_id, *args, **kwargs)\u001b[0m\n\u001b[0;32m    143\u001b[0m \u001b[39mdef\u001b[39;00m \u001b[39m_gen_samples\u001b[39m(kernel, warmup_steps, num_samples, hook, chain_id, \u001b[39m*\u001b[39margs, \u001b[39m*\u001b[39m\u001b[39m*\u001b[39mkwargs):\n\u001b[1;32m--> 144\u001b[0m     kernel\u001b[39m.\u001b[39msetup(warmup_steps, \u001b[39m*\u001b[39margs, \u001b[39m*\u001b[39m\u001b[39m*\u001b[39mkwargs)\n\u001b[0;32m    145\u001b[0m     params \u001b[39m=\u001b[39m kernel\u001b[39m.\u001b[39minitial_params\n\u001b[0;32m    146\u001b[0m     save_params \u001b[39m=\u001b[39m \u001b[39mgetattr\u001b[39m(kernel, \u001b[39m\"\u001b[39m\u001b[39msave_params\u001b[39m\u001b[39m\"\u001b[39m, \u001b[39msorted\u001b[39m(params))\n",
      "File \u001b[1;32mc:\\Users\\simon\\.virtualenvs\\probabilistic_programming-fP321iZ6\\lib\\site-packages\\pyro\\infer\\mcmc\\hmc.py:345\u001b[0m, in \u001b[0;36mHMC.setup\u001b[1;34m(self, warmup_steps, *args, **kwargs)\u001b[0m\n\u001b[0;32m    343\u001b[0m \u001b[39mself\u001b[39m\u001b[39m.\u001b[39m_warmup_steps \u001b[39m=\u001b[39m warmup_steps\n\u001b[0;32m    344\u001b[0m \u001b[39mif\u001b[39;00m \u001b[39mself\u001b[39m\u001b[39m.\u001b[39mmodel \u001b[39mis\u001b[39;00m \u001b[39mnot\u001b[39;00m \u001b[39mNone\u001b[39;00m:\n\u001b[1;32m--> 345\u001b[0m     \u001b[39mself\u001b[39;49m\u001b[39m.\u001b[39;49m_initialize_model_properties(args, kwargs)\n\u001b[0;32m    346\u001b[0m \u001b[39mif\u001b[39;00m \u001b[39mself\u001b[39m\u001b[39m.\u001b[39minitial_params:\n\u001b[0;32m    347\u001b[0m     z \u001b[39m=\u001b[39m {k: v\u001b[39m.\u001b[39mdetach() \u001b[39mfor\u001b[39;00m k, v \u001b[39min\u001b[39;00m \u001b[39mself\u001b[39m\u001b[39m.\u001b[39minitial_params\u001b[39m.\u001b[39mitems()}\n",
      "File \u001b[1;32mc:\\Users\\simon\\.virtualenvs\\probabilistic_programming-fP321iZ6\\lib\\site-packages\\pyro\\infer\\mcmc\\hmc.py:279\u001b[0m, in \u001b[0;36mHMC._initialize_model_properties\u001b[1;34m(self, model_args, model_kwargs)\u001b[0m\n\u001b[0;32m    278\u001b[0m \u001b[39mdef\u001b[39;00m \u001b[39m_initialize_model_properties\u001b[39m(\u001b[39mself\u001b[39m, model_args, model_kwargs):\n\u001b[1;32m--> 279\u001b[0m     init_params, potential_fn, transforms, trace \u001b[39m=\u001b[39m initialize_model(\n\u001b[0;32m    280\u001b[0m         \u001b[39mself\u001b[39;49m\u001b[39m.\u001b[39;49mmodel,\n\u001b[0;32m    281\u001b[0m         model_args,\n\u001b[0;32m    282\u001b[0m         model_kwargs,\n\u001b[0;32m    283\u001b[0m         transforms\u001b[39m=\u001b[39;49m\u001b[39mself\u001b[39;49m\u001b[39m.\u001b[39;49mtransforms,\n\u001b[0;32m    284\u001b[0m         max_plate_nesting\u001b[39m=\u001b[39;49m\u001b[39mself\u001b[39;49m\u001b[39m.\u001b[39;49m_max_plate_nesting,\n\u001b[0;32m    285\u001b[0m         jit_compile\u001b[39m=\u001b[39;49m\u001b[39mself\u001b[39;49m\u001b[39m.\u001b[39;49m_jit_compile,\n\u001b[0;32m    286\u001b[0m         jit_options\u001b[39m=\u001b[39;49m\u001b[39mself\u001b[39;49m\u001b[39m.\u001b[39;49m_jit_options,\n\u001b[0;32m    287\u001b[0m         skip_jit_warnings\u001b[39m=\u001b[39;49m\u001b[39mself\u001b[39;49m\u001b[39m.\u001b[39;49m_ignore_jit_warnings,\n\u001b[0;32m    288\u001b[0m         init_strategy\u001b[39m=\u001b[39;49m\u001b[39mself\u001b[39;49m\u001b[39m.\u001b[39;49m_init_strategy,\n\u001b[0;32m    289\u001b[0m         initial_params\u001b[39m=\u001b[39;49m\u001b[39mself\u001b[39;49m\u001b[39m.\u001b[39;49m_initial_params,\n\u001b[0;32m    290\u001b[0m     )\n\u001b[0;32m    291\u001b[0m     \u001b[39mself\u001b[39m\u001b[39m.\u001b[39mpotential_fn \u001b[39m=\u001b[39m potential_fn\n\u001b[0;32m    292\u001b[0m     \u001b[39mself\u001b[39m\u001b[39m.\u001b[39mtransforms \u001b[39m=\u001b[39m transforms\n",
      "File \u001b[1;32mc:\\Users\\simon\\.virtualenvs\\probabilistic_programming-fP321iZ6\\lib\\site-packages\\pyro\\infer\\mcmc\\util.py:427\u001b[0m, in \u001b[0;36minitialize_model\u001b[1;34m(model, model_args, model_kwargs, transforms, max_plate_nesting, jit_compile, jit_options, skip_jit_warnings, num_chains, init_strategy, initial_params)\u001b[0m\n\u001b[0;32m    425\u001b[0m     automatic_transform_enabled \u001b[39m=\u001b[39m \u001b[39mFalse\u001b[39;00m\n\u001b[0;32m    426\u001b[0m \u001b[39mif\u001b[39;00m max_plate_nesting \u001b[39mis\u001b[39;00m \u001b[39mNone\u001b[39;00m:\n\u001b[1;32m--> 427\u001b[0m     max_plate_nesting \u001b[39m=\u001b[39m _guess_max_plate_nesting(model, model_args, model_kwargs)\n\u001b[0;32m    428\u001b[0m \u001b[39m# Wrap model in `poutine.enum` to enumerate over discrete latent sites.\u001b[39;00m\n\u001b[0;32m    429\u001b[0m \u001b[39m# No-op if model does not have any discrete latents.\u001b[39;00m\n\u001b[0;32m    430\u001b[0m model \u001b[39m=\u001b[39m poutine\u001b[39m.\u001b[39menum(\n\u001b[0;32m    431\u001b[0m     config_enumerate(model), first_available_dim\u001b[39m=\u001b[39m\u001b[39m-\u001b[39m\u001b[39m1\u001b[39m \u001b[39m-\u001b[39m max_plate_nesting\n\u001b[0;32m    432\u001b[0m )\n",
      "File \u001b[1;32mc:\\Users\\simon\\.virtualenvs\\probabilistic_programming-fP321iZ6\\lib\\site-packages\\pyro\\infer\\mcmc\\util.py:251\u001b[0m, in \u001b[0;36m_guess_max_plate_nesting\u001b[1;34m(model, args, kwargs)\u001b[0m\n\u001b[0;32m    245\u001b[0m \u001b[39m\u001b[39m\u001b[39m\"\"\"\u001b[39;00m\n\u001b[0;32m    246\u001b[0m \u001b[39mGuesses max_plate_nesting by running the model once\u001b[39;00m\n\u001b[0;32m    247\u001b[0m \u001b[39mwithout enumeration. This optimistically assumes static model\u001b[39;00m\n\u001b[0;32m    248\u001b[0m \u001b[39mstructure.\u001b[39;00m\n\u001b[0;32m    249\u001b[0m \u001b[39m\"\"\"\u001b[39;00m\n\u001b[0;32m    250\u001b[0m \u001b[39mwith\u001b[39;00m poutine\u001b[39m.\u001b[39mblock():\n\u001b[1;32m--> 251\u001b[0m     model_trace \u001b[39m=\u001b[39m poutine\u001b[39m.\u001b[39mtrace(model)\u001b[39m.\u001b[39mget_trace(\u001b[39m*\u001b[39margs, \u001b[39m*\u001b[39m\u001b[39m*\u001b[39mkwargs)\n\u001b[0;32m    252\u001b[0m sites \u001b[39m=\u001b[39m [site \u001b[39mfor\u001b[39;00m site \u001b[39min\u001b[39;00m model_trace\u001b[39m.\u001b[39mnodes\u001b[39m.\u001b[39mvalues() \u001b[39mif\u001b[39;00m site[\u001b[39m\"\u001b[39m\u001b[39mtype\u001b[39m\u001b[39m\"\u001b[39m] \u001b[39m==\u001b[39m \u001b[39m\"\u001b[39m\u001b[39msample\u001b[39m\u001b[39m\"\u001b[39m]\n\u001b[0;32m    254\u001b[0m dims \u001b[39m=\u001b[39m [\n\u001b[0;32m    255\u001b[0m     frame\u001b[39m.\u001b[39mdim\n\u001b[0;32m    256\u001b[0m     \u001b[39mfor\u001b[39;00m site \u001b[39min\u001b[39;00m sites\n\u001b[0;32m    257\u001b[0m     \u001b[39mfor\u001b[39;00m frame \u001b[39min\u001b[39;00m site[\u001b[39m\"\u001b[39m\u001b[39mcond_indep_stack\u001b[39m\u001b[39m\"\u001b[39m]\n\u001b[0;32m    258\u001b[0m     \u001b[39mif\u001b[39;00m frame\u001b[39m.\u001b[39mvectorized\n\u001b[0;32m    259\u001b[0m ]\n",
      "File \u001b[1;32mc:\\Users\\simon\\.virtualenvs\\probabilistic_programming-fP321iZ6\\lib\\site-packages\\pyro\\poutine\\trace_messenger.py:198\u001b[0m, in \u001b[0;36mTraceHandler.get_trace\u001b[1;34m(self, *args, **kwargs)\u001b[0m\n\u001b[0;32m    190\u001b[0m \u001b[39mdef\u001b[39;00m \u001b[39mget_trace\u001b[39m(\u001b[39mself\u001b[39m, \u001b[39m*\u001b[39margs, \u001b[39m*\u001b[39m\u001b[39m*\u001b[39mkwargs):\n\u001b[0;32m    191\u001b[0m \u001b[39m    \u001b[39m\u001b[39m\"\"\"\u001b[39;00m\n\u001b[0;32m    192\u001b[0m \u001b[39m    :returns: data structure\u001b[39;00m\n\u001b[0;32m    193\u001b[0m \u001b[39m    :rtype: pyro.poutine.Trace\u001b[39;00m\n\u001b[1;32m   (...)\u001b[0m\n\u001b[0;32m    196\u001b[0m \u001b[39m    Calls this poutine and returns its trace instead of the function's return value.\u001b[39;00m\n\u001b[0;32m    197\u001b[0m \u001b[39m    \"\"\"\u001b[39;00m\n\u001b[1;32m--> 198\u001b[0m     \u001b[39mself\u001b[39m(\u001b[39m*\u001b[39margs, \u001b[39m*\u001b[39m\u001b[39m*\u001b[39mkwargs)\n\u001b[0;32m    199\u001b[0m     \u001b[39mreturn\u001b[39;00m \u001b[39mself\u001b[39m\u001b[39m.\u001b[39mmsngr\u001b[39m.\u001b[39mget_trace()\n",
      "File \u001b[1;32mc:\\Users\\simon\\.virtualenvs\\probabilistic_programming-fP321iZ6\\lib\\site-packages\\pyro\\poutine\\trace_messenger.py:180\u001b[0m, in \u001b[0;36mTraceHandler.__call__\u001b[1;34m(self, *args, **kwargs)\u001b[0m\n\u001b[0;32m    178\u001b[0m         exc \u001b[39m=\u001b[39m exc_type(\u001b[39m\"\u001b[39m\u001b[39m{}\u001b[39;00m\u001b[39m\\n\u001b[39;00m\u001b[39m{}\u001b[39;00m\u001b[39m\"\u001b[39m\u001b[39m.\u001b[39mformat(exc_value, shapes))\n\u001b[0;32m    179\u001b[0m         exc \u001b[39m=\u001b[39m exc\u001b[39m.\u001b[39mwith_traceback(traceback)\n\u001b[1;32m--> 180\u001b[0m         \u001b[39mraise\u001b[39;00m exc \u001b[39mfrom\u001b[39;00m \u001b[39me\u001b[39;00m\n\u001b[0;32m    181\u001b[0m     \u001b[39mself\u001b[39m\u001b[39m.\u001b[39mmsngr\u001b[39m.\u001b[39mtrace\u001b[39m.\u001b[39madd_node(\n\u001b[0;32m    182\u001b[0m         \u001b[39m\"\u001b[39m\u001b[39m_RETURN\u001b[39m\u001b[39m\"\u001b[39m, name\u001b[39m=\u001b[39m\u001b[39m\"\u001b[39m\u001b[39m_RETURN\u001b[39m\u001b[39m\"\u001b[39m, \u001b[39mtype\u001b[39m\u001b[39m=\u001b[39m\u001b[39m\"\u001b[39m\u001b[39mreturn\u001b[39m\u001b[39m\"\u001b[39m, value\u001b[39m=\u001b[39mret\n\u001b[0;32m    183\u001b[0m     )\n\u001b[0;32m    184\u001b[0m \u001b[39mreturn\u001b[39;00m ret\n",
      "File \u001b[1;32mc:\\Users\\simon\\.virtualenvs\\probabilistic_programming-fP321iZ6\\lib\\site-packages\\pyro\\poutine\\trace_messenger.py:174\u001b[0m, in \u001b[0;36mTraceHandler.__call__\u001b[1;34m(self, *args, **kwargs)\u001b[0m\n\u001b[0;32m    170\u001b[0m \u001b[39mself\u001b[39m\u001b[39m.\u001b[39mmsngr\u001b[39m.\u001b[39mtrace\u001b[39m.\u001b[39madd_node(\n\u001b[0;32m    171\u001b[0m     \u001b[39m\"\u001b[39m\u001b[39m_INPUT\u001b[39m\u001b[39m\"\u001b[39m, name\u001b[39m=\u001b[39m\u001b[39m\"\u001b[39m\u001b[39m_INPUT\u001b[39m\u001b[39m\"\u001b[39m, \u001b[39mtype\u001b[39m\u001b[39m=\u001b[39m\u001b[39m\"\u001b[39m\u001b[39margs\u001b[39m\u001b[39m\"\u001b[39m, args\u001b[39m=\u001b[39margs, kwargs\u001b[39m=\u001b[39mkwargs\n\u001b[0;32m    172\u001b[0m )\n\u001b[0;32m    173\u001b[0m \u001b[39mtry\u001b[39;00m:\n\u001b[1;32m--> 174\u001b[0m     ret \u001b[39m=\u001b[39m \u001b[39mself\u001b[39m\u001b[39m.\u001b[39mfn(\u001b[39m*\u001b[39margs, \u001b[39m*\u001b[39m\u001b[39m*\u001b[39mkwargs)\n\u001b[0;32m    175\u001b[0m \u001b[39mexcept\u001b[39;00m (\u001b[39mValueError\u001b[39;00m, \u001b[39mRuntimeError\u001b[39;00m) \u001b[39mas\u001b[39;00m e:\n\u001b[0;32m    176\u001b[0m     exc_type, exc_value, traceback \u001b[39m=\u001b[39m sys\u001b[39m.\u001b[39mexc_info()\n",
      "Cell \u001b[1;32mIn[45], line 23\u001b[0m, in \u001b[0;36mbkt_model\u001b[1;34m(data)\u001b[0m\n\u001b[0;32m     20\u001b[0m p_correct \u001b[39m=\u001b[39m p_mastered \u001b[39m*\u001b[39m (\u001b[39m1\u001b[39m \u001b[39m-\u001b[39m slip_prob) \u001b[39m+\u001b[39m (\u001b[39m1\u001b[39m \u001b[39m-\u001b[39m p_mastered) \u001b[39m*\u001b[39m guess_prob\n\u001b[0;32m     22\u001b[0m \u001b[39m# Likelihood of response\u001b[39;00m\n\u001b[1;32m---> 23\u001b[0m pyro\u001b[39m.\u001b[39msample(\u001b[39mf\u001b[39m\u001b[39m\"\u001b[39m\u001b[39mobs_\u001b[39m\u001b[39m{\u001b[39;00mi\u001b[39m}\u001b[39;00m\u001b[39m\"\u001b[39m, dist\u001b[39m.\u001b[39;49mBernoulli(p_correct)\u001b[39m.\u001b[39;49mto_event(\u001b[39m1\u001b[39;49m), obs\u001b[39m=\u001b[39mdata[i])\n\u001b[0;32m     25\u001b[0m \u001b[39m# Update probability of mastery\u001b[39;00m\n\u001b[0;32m     26\u001b[0m p_mastered \u001b[39m=\u001b[39m p_mastered \u001b[39m*\u001b[39m (\u001b[39m1\u001b[39m \u001b[39m-\u001b[39m learn_prob) \u001b[39m+\u001b[39m (\u001b[39m1\u001b[39m \u001b[39m-\u001b[39m p_mastered) \u001b[39m*\u001b[39m guess_prob\n",
      "File \u001b[1;32mc:\\Users\\simon\\.virtualenvs\\probabilistic_programming-fP321iZ6\\lib\\site-packages\\pyro\\distributions\\torch_distribution.py:194\u001b[0m, in \u001b[0;36mTorchDistributionMixin.to_event\u001b[1;34m(self, reinterpreted_batch_ndims)\u001b[0m\n\u001b[0;32m    190\u001b[0m \u001b[39mif\u001b[39;00m reinterpreted_batch_ndims \u001b[39m<\u001b[39m \u001b[39m0\u001b[39m:\n\u001b[0;32m    191\u001b[0m     \u001b[39mraise\u001b[39;00m \u001b[39mValueError\u001b[39;00m(\n\u001b[0;32m    192\u001b[0m         \u001b[39m\"\u001b[39m\u001b[39mCannot remove event dimensions from \u001b[39m\u001b[39m{}\u001b[39;00m\u001b[39m\"\u001b[39m\u001b[39m.\u001b[39mformat(\u001b[39mtype\u001b[39m(\u001b[39mself\u001b[39m))\n\u001b[0;32m    193\u001b[0m     )\n\u001b[1;32m--> 194\u001b[0m \u001b[39mreturn\u001b[39;00m pyro\u001b[39m.\u001b[39;49mdistributions\u001b[39m.\u001b[39;49mtorch\u001b[39m.\u001b[39;49mIndependent(\n\u001b[0;32m    195\u001b[0m     base_dist, reinterpreted_batch_ndims\n\u001b[0;32m    196\u001b[0m )\n",
      "File \u001b[1;32mc:\\Users\\simon\\.virtualenvs\\probabilistic_programming-fP321iZ6\\lib\\site-packages\\pyro\\distributions\\distribution.py:24\u001b[0m, in \u001b[0;36mDistributionMeta.__call__\u001b[1;34m(cls, *args, **kwargs)\u001b[0m\n\u001b[0;32m     22\u001b[0m     \u001b[39mif\u001b[39;00m result \u001b[39mis\u001b[39;00m \u001b[39mnot\u001b[39;00m \u001b[39mNone\u001b[39;00m:\n\u001b[0;32m     23\u001b[0m         \u001b[39mreturn\u001b[39;00m result\n\u001b[1;32m---> 24\u001b[0m \u001b[39mreturn\u001b[39;00m \u001b[39msuper\u001b[39m()\u001b[39m.\u001b[39m\u001b[39m__call__\u001b[39m(\u001b[39m*\u001b[39margs, \u001b[39m*\u001b[39m\u001b[39m*\u001b[39mkwargs)\n",
      "File \u001b[1;32mc:\\Users\\simon\\.virtualenvs\\probabilistic_programming-fP321iZ6\\lib\\site-packages\\torch\\distributions\\independent.py:38\u001b[0m, in \u001b[0;36mIndependent.__init__\u001b[1;34m(self, base_distribution, reinterpreted_batch_ndims, validate_args)\u001b[0m\n\u001b[0;32m     36\u001b[0m \u001b[39mdef\u001b[39;00m \u001b[39m__init__\u001b[39m(\u001b[39mself\u001b[39m, base_distribution, reinterpreted_batch_ndims, validate_args\u001b[39m=\u001b[39m\u001b[39mNone\u001b[39;00m):\n\u001b[0;32m     37\u001b[0m     \u001b[39mif\u001b[39;00m reinterpreted_batch_ndims \u001b[39m>\u001b[39m \u001b[39mlen\u001b[39m(base_distribution\u001b[39m.\u001b[39mbatch_shape):\n\u001b[1;32m---> 38\u001b[0m         \u001b[39mraise\u001b[39;00m \u001b[39mValueError\u001b[39;00m(\u001b[39m\"\u001b[39m\u001b[39mExpected reinterpreted_batch_ndims <= len(base_distribution.batch_shape), \u001b[39m\u001b[39m\"\u001b[39m\n\u001b[0;32m     39\u001b[0m                          \u001b[39m\"\u001b[39m\u001b[39mactual \u001b[39m\u001b[39m{}\u001b[39;00m\u001b[39m vs \u001b[39m\u001b[39m{}\u001b[39;00m\u001b[39m\"\u001b[39m\u001b[39m.\u001b[39mformat(reinterpreted_batch_ndims,\n\u001b[0;32m     40\u001b[0m                                                   \u001b[39mlen\u001b[39m(base_distribution\u001b[39m.\u001b[39mbatch_shape)))\n\u001b[0;32m     41\u001b[0m     shape \u001b[39m=\u001b[39m base_distribution\u001b[39m.\u001b[39mbatch_shape \u001b[39m+\u001b[39m base_distribution\u001b[39m.\u001b[39mevent_shape\n\u001b[0;32m     42\u001b[0m     event_dim \u001b[39m=\u001b[39m reinterpreted_batch_ndims \u001b[39m+\u001b[39m \u001b[39mlen\u001b[39m(base_distribution\u001b[39m.\u001b[39mevent_shape)\n",
      "\u001b[1;31mValueError\u001b[0m: Expected reinterpreted_batch_ndims <= len(base_distribution.batch_shape), actual 1 vs 0\n  Trace Shapes:  \n   Param Sites:  \n  Sample Sites:  \n init_prob dist |\n          value |\nlearn_prob dist |\n          value |\nguess_prob dist |\n          value |\n slip_prob dist |\n          value |"
     ]
    }
   ],
   "source": [
    "import pyro\n",
    "import pyro.distributions as dist\n",
    "from pyro.infer import MCMC, NUTS\n",
    "import torch\n",
    "\n",
    "# Define the BKT model\n",
    "def bkt_model(data):\n",
    "    # Priors for initial probability of mastery and transition probabilities\n",
    "    init_prob = pyro.sample(\"init_prob\", dist.Beta(1, 1))\n",
    "    learn_prob = pyro.sample(\"learn_prob\", dist.Beta(1, 1))\n",
    "    guess_prob = pyro.sample(\"guess_prob\", dist.Beta(1, 1))\n",
    "    slip_prob = pyro.sample(\"slip_prob\", dist.Beta(1, 1))\n",
    "\n",
    "    # Initial probability of mastery\n",
    "    p_mastered = init_prob\n",
    "\n",
    "    # Loop over the student's responses\n",
    "    for i in range(len(data)):\n",
    "        # Probability of correct response\n",
    "        p_correct = p_mastered * (1 - slip_prob) + (1 - p_mastered) * guess_prob\n",
    "\n",
    "        # Likelihood of response\n",
    "        pyro.sample(f\"obs_{i}\", dist.Bernoulli(p_correct).to_event(1), obs=data[i])\n",
    "\n",
    "        # Update probability of mastery\n",
    "        p_mastered = p_mastered * (1 - learn_prob) + (1 - p_mastered) * guess_prob\n",
    "\n",
    "    return p_mastered\n",
    "\n",
    "# Generate some example data\n",
    "data = torch.tensor([1, 0, 1, 1, 0, 1, 1])\n",
    "\n",
    "# Run the model using MCMC inference\n",
    "kernel = NUTS(bkt_model)\n",
    "mcmc = MCMC(kernel, num_samples=1000, warmup_steps=100)\n",
    "mcmc.run(data)\n",
    "\n",
    "# Extract posterior samples for the initial probability of mastery\n",
    "init_prob_samples = mcmc.get_samples()[\"init_prob\"]\n",
    "mean_init_prob = init_prob_samples.mean().item()\n",
    "std_init_prob = init_prob_samples.std().item()\n",
    "\n",
    "print(f\"Mean initial probability of mastery: {mean_init_prob:.2f}\")\n",
    "print(f\"Standard deviation of initial probability of mastery: {std_init_prob:.2f}\")\n"
   ]
  },
  {
   "cell_type": "code",
   "execution_count": 37,
   "metadata": {},
   "outputs": [
    {
     "ename": "ValueError",
     "evalue": "Shape mismatch inside plate('data_0') at site init_know_0 dim -1, 5 vs 3\n Trace Shapes:      \n  Param Sites:      \n Sample Sites:      \n  mastery dist   | 3\n         value   | 3\ninit_know dist 5 | 3\n         value 5 | 3\nTrace Shapes:\n Param Sites:\nSample Sites:",
     "output_type": "error",
     "traceback": [
      "\u001b[1;31m---------------------------------------------------------------------------\u001b[0m",
      "\u001b[1;31mValueError\u001b[0m                                Traceback (most recent call last)",
      "File \u001b[1;32mc:\\Users\\simon\\.virtualenvs\\probabilistic_programming-fP321iZ6\\lib\\site-packages\\pyro\\poutine\\trace_messenger.py:174\u001b[0m, in \u001b[0;36mTraceHandler.__call__\u001b[1;34m(self, *args, **kwargs)\u001b[0m\n\u001b[0;32m    173\u001b[0m \u001b[39mtry\u001b[39;00m:\n\u001b[1;32m--> 174\u001b[0m     ret \u001b[39m=\u001b[39m \u001b[39mself\u001b[39m\u001b[39m.\u001b[39mfn(\u001b[39m*\u001b[39margs, \u001b[39m*\u001b[39m\u001b[39m*\u001b[39mkwargs)\n\u001b[0;32m    175\u001b[0m \u001b[39mexcept\u001b[39;00m (\u001b[39mValueError\u001b[39;00m, \u001b[39mRuntimeError\u001b[39;00m) \u001b[39mas\u001b[39;00m e:\n",
      "File \u001b[1;32mc:\\Users\\simon\\.virtualenvs\\probabilistic_programming-fP321iZ6\\lib\\site-packages\\pyro\\poutine\\messenger.py:12\u001b[0m, in \u001b[0;36m_context_wrap\u001b[1;34m(context, fn, *args, **kwargs)\u001b[0m\n\u001b[0;32m     11\u001b[0m \u001b[39mwith\u001b[39;00m context:\n\u001b[1;32m---> 12\u001b[0m     \u001b[39mreturn\u001b[39;00m fn(\u001b[39m*\u001b[39margs, \u001b[39m*\u001b[39m\u001b[39m*\u001b[39mkwargs)\n",
      "File \u001b[1;32mc:\\Users\\simon\\.virtualenvs\\probabilistic_programming-fP321iZ6\\lib\\site-packages\\pyro\\poutine\\messenger.py:12\u001b[0m, in \u001b[0;36m_context_wrap\u001b[1;34m(context, fn, *args, **kwargs)\u001b[0m\n\u001b[0;32m     11\u001b[0m \u001b[39mwith\u001b[39;00m context:\n\u001b[1;32m---> 12\u001b[0m     \u001b[39mreturn\u001b[39;00m fn(\u001b[39m*\u001b[39margs, \u001b[39m*\u001b[39m\u001b[39m*\u001b[39mkwargs)\n",
      "File \u001b[1;32mc:\\Users\\simon\\.virtualenvs\\probabilistic_programming-fP321iZ6\\lib\\site-packages\\pyro\\poutine\\messenger.py:12\u001b[0m, in \u001b[0;36m_context_wrap\u001b[1;34m(context, fn, *args, **kwargs)\u001b[0m\n\u001b[0;32m     11\u001b[0m \u001b[39mwith\u001b[39;00m context:\n\u001b[1;32m---> 12\u001b[0m     \u001b[39mreturn\u001b[39;00m fn(\u001b[39m*\u001b[39margs, \u001b[39m*\u001b[39m\u001b[39m*\u001b[39mkwargs)\n",
      "Cell \u001b[1;32mIn[37], line 27\u001b[0m, in \u001b[0;36mbkt\u001b[1;34m(data)\u001b[0m\n\u001b[0;32m     26\u001b[0m         \u001b[39m# Update knowledge state based on response\u001b[39;00m\n\u001b[1;32m---> 27\u001b[0m         init_know \u001b[39m=\u001b[39m pyro\u001b[39m.\u001b[39;49msample(\u001b[39m\"\u001b[39;49m\u001b[39minit_know_\u001b[39;49m\u001b[39m{}\u001b[39;49;00m\u001b[39m\"\u001b[39;49m\u001b[39m.\u001b[39;49mformat(i), \n\u001b[0;32m     28\u001b[0m                                 dist\u001b[39m.\u001b[39;49mBeta(p_know \u001b[39m*\u001b[39;49m (\u001b[39m1\u001b[39;49m \u001b[39m-\u001b[39;49m data[i]) \u001b[39m+\u001b[39;49m (\u001b[39m1\u001b[39;49m \u001b[39m-\u001b[39;49m p_know) \u001b[39m*\u001b[39;49m data[i], \n\u001b[0;32m     29\u001b[0m                                           (\u001b[39m1\u001b[39;49m \u001b[39m-\u001b[39;49m p_know) \u001b[39m*\u001b[39;49m (\u001b[39m1\u001b[39;49m \u001b[39m-\u001b[39;49m data[i]) \u001b[39m+\u001b[39;49m p_know \u001b[39m*\u001b[39;49m data[i])\n\u001b[0;32m     30\u001b[0m                                 \u001b[39m.\u001b[39;49mmask(data[i]))\n\u001b[0;32m     32\u001b[0m \u001b[39mreturn\u001b[39;00m init_know\n",
      "File \u001b[1;32mc:\\Users\\simon\\.virtualenvs\\probabilistic_programming-fP321iZ6\\lib\\site-packages\\pyro\\primitives.py:163\u001b[0m, in \u001b[0;36msample\u001b[1;34m(name, fn, *args, **kwargs)\u001b[0m\n\u001b[0;32m    162\u001b[0m \u001b[39m# apply the stack and return its return value\u001b[39;00m\n\u001b[1;32m--> 163\u001b[0m apply_stack(msg)\n\u001b[0;32m    164\u001b[0m \u001b[39mreturn\u001b[39;00m msg[\u001b[39m\"\u001b[39m\u001b[39mvalue\u001b[39m\u001b[39m\"\u001b[39m]\n",
      "File \u001b[1;32mc:\\Users\\simon\\.virtualenvs\\probabilistic_programming-fP321iZ6\\lib\\site-packages\\pyro\\poutine\\runtime.py:213\u001b[0m, in \u001b[0;36mapply_stack\u001b[1;34m(initial_msg)\u001b[0m\n\u001b[0;32m    211\u001b[0m pointer \u001b[39m=\u001b[39m pointer \u001b[39m+\u001b[39m \u001b[39m1\u001b[39m\n\u001b[1;32m--> 213\u001b[0m frame\u001b[39m.\u001b[39;49m_process_message(msg)\n\u001b[0;32m    215\u001b[0m \u001b[39mif\u001b[39;00m msg[\u001b[39m\"\u001b[39m\u001b[39mstop\u001b[39m\u001b[39m\"\u001b[39m]:\n",
      "File \u001b[1;32mc:\\Users\\simon\\.virtualenvs\\probabilistic_programming-fP321iZ6\\lib\\site-packages\\pyro\\poutine\\plate_messenger.py:19\u001b[0m, in \u001b[0;36mPlateMessenger._process_message\u001b[1;34m(self, msg)\u001b[0m\n\u001b[0;32m     18\u001b[0m \u001b[39msuper\u001b[39m()\u001b[39m.\u001b[39m_process_message(msg)\n\u001b[1;32m---> 19\u001b[0m \u001b[39mreturn\u001b[39;00m BroadcastMessenger\u001b[39m.\u001b[39;49m_pyro_sample(msg)\n",
      "File \u001b[1;32m~\\Python\\Python310\\lib\\contextlib.py:79\u001b[0m, in \u001b[0;36mContextDecorator.__call__.<locals>.inner\u001b[1;34m(*args, **kwds)\u001b[0m\n\u001b[0;32m     78\u001b[0m \u001b[39mwith\u001b[39;00m \u001b[39mself\u001b[39m\u001b[39m.\u001b[39m_recreate_cm():\n\u001b[1;32m---> 79\u001b[0m     \u001b[39mreturn\u001b[39;00m func(\u001b[39m*\u001b[39margs, \u001b[39m*\u001b[39m\u001b[39m*\u001b[39mkwds)\n",
      "File \u001b[1;32mc:\\Users\\simon\\.virtualenvs\\probabilistic_programming-fP321iZ6\\lib\\site-packages\\pyro\\poutine\\broadcast_messenger.py:65\u001b[0m, in \u001b[0;36mBroadcastMessenger._pyro_sample\u001b[1;34m(msg)\u001b[0m\n\u001b[0;32m     61\u001b[0m \u001b[39mif\u001b[39;00m (\n\u001b[0;32m     62\u001b[0m     target_batch_shape[f\u001b[39m.\u001b[39mdim] \u001b[39mis\u001b[39;00m \u001b[39mnot\u001b[39;00m \u001b[39mNone\u001b[39;00m\n\u001b[0;32m     63\u001b[0m     \u001b[39mand\u001b[39;00m target_batch_shape[f\u001b[39m.\u001b[39mdim] \u001b[39m!=\u001b[39m f\u001b[39m.\u001b[39msize\n\u001b[0;32m     64\u001b[0m ):\n\u001b[1;32m---> 65\u001b[0m     \u001b[39mraise\u001b[39;00m \u001b[39mValueError\u001b[39;00m(\n\u001b[0;32m     66\u001b[0m         \u001b[39m\"\u001b[39m\u001b[39mShape mismatch inside plate(\u001b[39m\u001b[39m'\u001b[39m\u001b[39m{}\u001b[39;00m\u001b[39m'\u001b[39m\u001b[39m) at site \u001b[39m\u001b[39m{}\u001b[39;00m\u001b[39m dim \u001b[39m\u001b[39m{}\u001b[39;00m\u001b[39m, \u001b[39m\u001b[39m{}\u001b[39;00m\u001b[39m vs \u001b[39m\u001b[39m{}\u001b[39;00m\u001b[39m\"\u001b[39m\u001b[39m.\u001b[39mformat(\n\u001b[0;32m     67\u001b[0m             f\u001b[39m.\u001b[39mname,\n\u001b[0;32m     68\u001b[0m             msg[\u001b[39m\"\u001b[39m\u001b[39mname\u001b[39m\u001b[39m\"\u001b[39m],\n\u001b[0;32m     69\u001b[0m             f\u001b[39m.\u001b[39mdim,\n\u001b[0;32m     70\u001b[0m             f\u001b[39m.\u001b[39msize,\n\u001b[0;32m     71\u001b[0m             target_batch_shape[f\u001b[39m.\u001b[39mdim],\n\u001b[0;32m     72\u001b[0m         )\n\u001b[0;32m     73\u001b[0m     )\n\u001b[0;32m     74\u001b[0m target_batch_shape[f\u001b[39m.\u001b[39mdim] \u001b[39m=\u001b[39m f\u001b[39m.\u001b[39msize\n",
      "\u001b[1;31mValueError\u001b[0m: Shape mismatch inside plate('data_0') at site init_know_0 dim -1, 5 vs 3",
      "\nThe above exception was the direct cause of the following exception:\n",
      "\u001b[1;31mValueError\u001b[0m                                Traceback (most recent call last)",
      "File \u001b[1;32mc:\\Users\\simon\\.virtualenvs\\probabilistic_programming-fP321iZ6\\lib\\site-packages\\pyro\\poutine\\trace_messenger.py:174\u001b[0m, in \u001b[0;36mTraceHandler.__call__\u001b[1;34m(self, *args, **kwargs)\u001b[0m\n\u001b[0;32m    173\u001b[0m \u001b[39mtry\u001b[39;00m:\n\u001b[1;32m--> 174\u001b[0m     ret \u001b[39m=\u001b[39m \u001b[39mself\u001b[39m\u001b[39m.\u001b[39mfn(\u001b[39m*\u001b[39margs, \u001b[39m*\u001b[39m\u001b[39m*\u001b[39mkwargs)\n\u001b[0;32m    175\u001b[0m \u001b[39mexcept\u001b[39;00m (\u001b[39mValueError\u001b[39;00m, \u001b[39mRuntimeError\u001b[39;00m) \u001b[39mas\u001b[39;00m e:\n",
      "File \u001b[1;32mc:\\Users\\simon\\.virtualenvs\\probabilistic_programming-fP321iZ6\\lib\\site-packages\\pyro\\nn\\module.py:448\u001b[0m, in \u001b[0;36mPyroModule.__call__\u001b[1;34m(self, *args, **kwargs)\u001b[0m\n\u001b[0;32m    447\u001b[0m \u001b[39mwith\u001b[39;00m \u001b[39mself\u001b[39m\u001b[39m.\u001b[39m_pyro_context:\n\u001b[1;32m--> 448\u001b[0m     result \u001b[39m=\u001b[39m \u001b[39msuper\u001b[39m()\u001b[39m.\u001b[39m\u001b[39m__call__\u001b[39m(\u001b[39m*\u001b[39margs, \u001b[39m*\u001b[39m\u001b[39m*\u001b[39mkwargs)\n\u001b[0;32m    449\u001b[0m \u001b[39mif\u001b[39;00m (\n\u001b[0;32m    450\u001b[0m     pyro\u001b[39m.\u001b[39msettings\u001b[39m.\u001b[39mget(\u001b[39m\"\u001b[39m\u001b[39mvalidate_poutine\u001b[39m\u001b[39m\"\u001b[39m)\n\u001b[0;32m    451\u001b[0m     \u001b[39mand\u001b[39;00m \u001b[39mnot\u001b[39;00m \u001b[39mself\u001b[39m\u001b[39m.\u001b[39m_pyro_context\u001b[39m.\u001b[39mactive\n\u001b[0;32m    452\u001b[0m     \u001b[39mand\u001b[39;00m _is_module_local_param_enabled()\n\u001b[0;32m    453\u001b[0m ):\n",
      "File \u001b[1;32mc:\\Users\\simon\\.virtualenvs\\probabilistic_programming-fP321iZ6\\lib\\site-packages\\torch\\nn\\modules\\module.py:1110\u001b[0m, in \u001b[0;36mModule._call_impl\u001b[1;34m(self, *input, **kwargs)\u001b[0m\n\u001b[0;32m   1108\u001b[0m \u001b[39mif\u001b[39;00m \u001b[39mnot\u001b[39;00m (\u001b[39mself\u001b[39m\u001b[39m.\u001b[39m_backward_hooks \u001b[39mor\u001b[39;00m \u001b[39mself\u001b[39m\u001b[39m.\u001b[39m_forward_hooks \u001b[39mor\u001b[39;00m \u001b[39mself\u001b[39m\u001b[39m.\u001b[39m_forward_pre_hooks \u001b[39mor\u001b[39;00m _global_backward_hooks\n\u001b[0;32m   1109\u001b[0m         \u001b[39mor\u001b[39;00m _global_forward_hooks \u001b[39mor\u001b[39;00m _global_forward_pre_hooks):\n\u001b[1;32m-> 1110\u001b[0m     \u001b[39mreturn\u001b[39;00m forward_call(\u001b[39m*\u001b[39m\u001b[39minput\u001b[39m, \u001b[39m*\u001b[39m\u001b[39m*\u001b[39mkwargs)\n\u001b[0;32m   1111\u001b[0m \u001b[39m# Do not call functions when jit is used\u001b[39;00m\n",
      "File \u001b[1;32mc:\\Users\\simon\\.virtualenvs\\probabilistic_programming-fP321iZ6\\lib\\site-packages\\pyro\\infer\\autoguide\\guides.py:387\u001b[0m, in \u001b[0;36mAutoDelta.forward\u001b[1;34m(self, *args, **kwargs)\u001b[0m\n\u001b[0;32m    386\u001b[0m \u001b[39mif\u001b[39;00m \u001b[39mself\u001b[39m\u001b[39m.\u001b[39mprototype_trace \u001b[39mis\u001b[39;00m \u001b[39mNone\u001b[39;00m:\n\u001b[1;32m--> 387\u001b[0m     \u001b[39mself\u001b[39m\u001b[39m.\u001b[39m_setup_prototype(\u001b[39m*\u001b[39margs, \u001b[39m*\u001b[39m\u001b[39m*\u001b[39mkwargs)\n\u001b[0;32m    389\u001b[0m plates \u001b[39m=\u001b[39m \u001b[39mself\u001b[39m\u001b[39m.\u001b[39m_create_plates(\u001b[39m*\u001b[39margs, \u001b[39m*\u001b[39m\u001b[39m*\u001b[39mkwargs)\n",
      "File \u001b[1;32mc:\\Users\\simon\\.virtualenvs\\probabilistic_programming-fP321iZ6\\lib\\site-packages\\pyro\\infer\\autoguide\\guides.py:357\u001b[0m, in \u001b[0;36mAutoDelta._setup_prototype\u001b[1;34m(self, *args, **kwargs)\u001b[0m\n\u001b[0;32m    356\u001b[0m \u001b[39mdef\u001b[39;00m \u001b[39m_setup_prototype\u001b[39m(\u001b[39mself\u001b[39m, \u001b[39m*\u001b[39margs, \u001b[39m*\u001b[39m\u001b[39m*\u001b[39mkwargs):\n\u001b[1;32m--> 357\u001b[0m     \u001b[39msuper\u001b[39m()\u001b[39m.\u001b[39m_setup_prototype(\u001b[39m*\u001b[39margs, \u001b[39m*\u001b[39m\u001b[39m*\u001b[39mkwargs)\n\u001b[0;32m    359\u001b[0m     \u001b[39m# Initialize guide params\u001b[39;00m\n",
      "File \u001b[1;32mc:\\Users\\simon\\.virtualenvs\\probabilistic_programming-fP321iZ6\\lib\\site-packages\\pyro\\infer\\autoguide\\guides.py:157\u001b[0m, in \u001b[0;36mAutoGuide._setup_prototype\u001b[1;34m(self, *args, **kwargs)\u001b[0m\n\u001b[0;32m    156\u001b[0m model \u001b[39m=\u001b[39m poutine\u001b[39m.\u001b[39mblock(\u001b[39mself\u001b[39m\u001b[39m.\u001b[39mmodel, \u001b[39mself\u001b[39m\u001b[39m.\u001b[39m_prototype_hide_fn)\n\u001b[1;32m--> 157\u001b[0m \u001b[39mself\u001b[39m\u001b[39m.\u001b[39mprototype_trace \u001b[39m=\u001b[39m poutine\u001b[39m.\u001b[39mblock(poutine\u001b[39m.\u001b[39mtrace(model)\u001b[39m.\u001b[39mget_trace)(\n\u001b[0;32m    158\u001b[0m     \u001b[39m*\u001b[39margs, \u001b[39m*\u001b[39m\u001b[39m*\u001b[39mkwargs\n\u001b[0;32m    159\u001b[0m )\n\u001b[0;32m    160\u001b[0m \u001b[39mif\u001b[39;00m \u001b[39mself\u001b[39m\u001b[39m.\u001b[39mmaster \u001b[39mis\u001b[39;00m \u001b[39mnot\u001b[39;00m \u001b[39mNone\u001b[39;00m:\n",
      "File \u001b[1;32mc:\\Users\\simon\\.virtualenvs\\probabilistic_programming-fP321iZ6\\lib\\site-packages\\pyro\\poutine\\messenger.py:12\u001b[0m, in \u001b[0;36m_context_wrap\u001b[1;34m(context, fn, *args, **kwargs)\u001b[0m\n\u001b[0;32m     11\u001b[0m \u001b[39mwith\u001b[39;00m context:\n\u001b[1;32m---> 12\u001b[0m     \u001b[39mreturn\u001b[39;00m fn(\u001b[39m*\u001b[39margs, \u001b[39m*\u001b[39m\u001b[39m*\u001b[39mkwargs)\n",
      "File \u001b[1;32mc:\\Users\\simon\\.virtualenvs\\probabilistic_programming-fP321iZ6\\lib\\site-packages\\pyro\\poutine\\trace_messenger.py:198\u001b[0m, in \u001b[0;36mTraceHandler.get_trace\u001b[1;34m(self, *args, **kwargs)\u001b[0m\n\u001b[0;32m    191\u001b[0m \u001b[39m\u001b[39m\u001b[39m\"\"\"\u001b[39;00m\n\u001b[0;32m    192\u001b[0m \u001b[39m:returns: data structure\u001b[39;00m\n\u001b[0;32m    193\u001b[0m \u001b[39m:rtype: pyro.poutine.Trace\u001b[39;00m\n\u001b[1;32m   (...)\u001b[0m\n\u001b[0;32m    196\u001b[0m \u001b[39mCalls this poutine and returns its trace instead of the function's return value.\u001b[39;00m\n\u001b[0;32m    197\u001b[0m \u001b[39m\"\"\"\u001b[39;00m\n\u001b[1;32m--> 198\u001b[0m \u001b[39mself\u001b[39m(\u001b[39m*\u001b[39margs, \u001b[39m*\u001b[39m\u001b[39m*\u001b[39mkwargs)\n\u001b[0;32m    199\u001b[0m \u001b[39mreturn\u001b[39;00m \u001b[39mself\u001b[39m\u001b[39m.\u001b[39mmsngr\u001b[39m.\u001b[39mget_trace()\n",
      "File \u001b[1;32mc:\\Users\\simon\\.virtualenvs\\probabilistic_programming-fP321iZ6\\lib\\site-packages\\pyro\\poutine\\trace_messenger.py:180\u001b[0m, in \u001b[0;36mTraceHandler.__call__\u001b[1;34m(self, *args, **kwargs)\u001b[0m\n\u001b[0;32m    179\u001b[0m     exc \u001b[39m=\u001b[39m exc\u001b[39m.\u001b[39mwith_traceback(traceback)\n\u001b[1;32m--> 180\u001b[0m     \u001b[39mraise\u001b[39;00m exc \u001b[39mfrom\u001b[39;00m \u001b[39me\u001b[39;00m\n\u001b[0;32m    181\u001b[0m \u001b[39mself\u001b[39m\u001b[39m.\u001b[39mmsngr\u001b[39m.\u001b[39mtrace\u001b[39m.\u001b[39madd_node(\n\u001b[0;32m    182\u001b[0m     \u001b[39m\"\u001b[39m\u001b[39m_RETURN\u001b[39m\u001b[39m\"\u001b[39m, name\u001b[39m=\u001b[39m\u001b[39m\"\u001b[39m\u001b[39m_RETURN\u001b[39m\u001b[39m\"\u001b[39m, \u001b[39mtype\u001b[39m\u001b[39m=\u001b[39m\u001b[39m\"\u001b[39m\u001b[39mreturn\u001b[39m\u001b[39m\"\u001b[39m, value\u001b[39m=\u001b[39mret\n\u001b[0;32m    183\u001b[0m )\n",
      "File \u001b[1;32mc:\\Users\\simon\\.virtualenvs\\probabilistic_programming-fP321iZ6\\lib\\site-packages\\pyro\\poutine\\trace_messenger.py:174\u001b[0m, in \u001b[0;36mTraceHandler.__call__\u001b[1;34m(self, *args, **kwargs)\u001b[0m\n\u001b[0;32m    173\u001b[0m \u001b[39mtry\u001b[39;00m:\n\u001b[1;32m--> 174\u001b[0m     ret \u001b[39m=\u001b[39m \u001b[39mself\u001b[39m\u001b[39m.\u001b[39mfn(\u001b[39m*\u001b[39margs, \u001b[39m*\u001b[39m\u001b[39m*\u001b[39mkwargs)\n\u001b[0;32m    175\u001b[0m \u001b[39mexcept\u001b[39;00m (\u001b[39mValueError\u001b[39;00m, \u001b[39mRuntimeError\u001b[39;00m) \u001b[39mas\u001b[39;00m e:\n",
      "File \u001b[1;32mc:\\Users\\simon\\.virtualenvs\\probabilistic_programming-fP321iZ6\\lib\\site-packages\\pyro\\poutine\\messenger.py:12\u001b[0m, in \u001b[0;36m_context_wrap\u001b[1;34m(context, fn, *args, **kwargs)\u001b[0m\n\u001b[0;32m     11\u001b[0m \u001b[39mwith\u001b[39;00m context:\n\u001b[1;32m---> 12\u001b[0m     \u001b[39mreturn\u001b[39;00m fn(\u001b[39m*\u001b[39margs, \u001b[39m*\u001b[39m\u001b[39m*\u001b[39mkwargs)\n",
      "File \u001b[1;32mc:\\Users\\simon\\.virtualenvs\\probabilistic_programming-fP321iZ6\\lib\\site-packages\\pyro\\poutine\\messenger.py:12\u001b[0m, in \u001b[0;36m_context_wrap\u001b[1;34m(context, fn, *args, **kwargs)\u001b[0m\n\u001b[0;32m     11\u001b[0m \u001b[39mwith\u001b[39;00m context:\n\u001b[1;32m---> 12\u001b[0m     \u001b[39mreturn\u001b[39;00m fn(\u001b[39m*\u001b[39margs, \u001b[39m*\u001b[39m\u001b[39m*\u001b[39mkwargs)\n",
      "File \u001b[1;32mc:\\Users\\simon\\.virtualenvs\\probabilistic_programming-fP321iZ6\\lib\\site-packages\\pyro\\poutine\\messenger.py:12\u001b[0m, in \u001b[0;36m_context_wrap\u001b[1;34m(context, fn, *args, **kwargs)\u001b[0m\n\u001b[0;32m     11\u001b[0m \u001b[39mwith\u001b[39;00m context:\n\u001b[1;32m---> 12\u001b[0m     \u001b[39mreturn\u001b[39;00m fn(\u001b[39m*\u001b[39margs, \u001b[39m*\u001b[39m\u001b[39m*\u001b[39mkwargs)\n",
      "Cell \u001b[1;32mIn[37], line 27\u001b[0m, in \u001b[0;36mbkt\u001b[1;34m(data)\u001b[0m\n\u001b[0;32m     26\u001b[0m         \u001b[39m# Update knowledge state based on response\u001b[39;00m\n\u001b[1;32m---> 27\u001b[0m         init_know \u001b[39m=\u001b[39m pyro\u001b[39m.\u001b[39;49msample(\u001b[39m\"\u001b[39;49m\u001b[39minit_know_\u001b[39;49m\u001b[39m{}\u001b[39;49;00m\u001b[39m\"\u001b[39;49m\u001b[39m.\u001b[39;49mformat(i), \n\u001b[0;32m     28\u001b[0m                                 dist\u001b[39m.\u001b[39;49mBeta(p_know \u001b[39m*\u001b[39;49m (\u001b[39m1\u001b[39;49m \u001b[39m-\u001b[39;49m data[i]) \u001b[39m+\u001b[39;49m (\u001b[39m1\u001b[39;49m \u001b[39m-\u001b[39;49m p_know) \u001b[39m*\u001b[39;49m data[i], \n\u001b[0;32m     29\u001b[0m                                           (\u001b[39m1\u001b[39;49m \u001b[39m-\u001b[39;49m p_know) \u001b[39m*\u001b[39;49m (\u001b[39m1\u001b[39;49m \u001b[39m-\u001b[39;49m data[i]) \u001b[39m+\u001b[39;49m p_know \u001b[39m*\u001b[39;49m data[i])\n\u001b[0;32m     30\u001b[0m                                 \u001b[39m.\u001b[39;49mmask(data[i]))\n\u001b[0;32m     32\u001b[0m \u001b[39mreturn\u001b[39;00m init_know\n",
      "File \u001b[1;32mc:\\Users\\simon\\.virtualenvs\\probabilistic_programming-fP321iZ6\\lib\\site-packages\\pyro\\primitives.py:163\u001b[0m, in \u001b[0;36msample\u001b[1;34m(name, fn, *args, **kwargs)\u001b[0m\n\u001b[0;32m    162\u001b[0m \u001b[39m# apply the stack and return its return value\u001b[39;00m\n\u001b[1;32m--> 163\u001b[0m apply_stack(msg)\n\u001b[0;32m    164\u001b[0m \u001b[39mreturn\u001b[39;00m msg[\u001b[39m\"\u001b[39m\u001b[39mvalue\u001b[39m\u001b[39m\"\u001b[39m]\n",
      "File \u001b[1;32mc:\\Users\\simon\\.virtualenvs\\probabilistic_programming-fP321iZ6\\lib\\site-packages\\pyro\\poutine\\runtime.py:213\u001b[0m, in \u001b[0;36mapply_stack\u001b[1;34m(initial_msg)\u001b[0m\n\u001b[0;32m    211\u001b[0m pointer \u001b[39m=\u001b[39m pointer \u001b[39m+\u001b[39m \u001b[39m1\u001b[39m\n\u001b[1;32m--> 213\u001b[0m frame\u001b[39m.\u001b[39;49m_process_message(msg)\n\u001b[0;32m    215\u001b[0m \u001b[39mif\u001b[39;00m msg[\u001b[39m\"\u001b[39m\u001b[39mstop\u001b[39m\u001b[39m\"\u001b[39m]:\n",
      "File \u001b[1;32mc:\\Users\\simon\\.virtualenvs\\probabilistic_programming-fP321iZ6\\lib\\site-packages\\pyro\\poutine\\plate_messenger.py:19\u001b[0m, in \u001b[0;36mPlateMessenger._process_message\u001b[1;34m(self, msg)\u001b[0m\n\u001b[0;32m     18\u001b[0m \u001b[39msuper\u001b[39m()\u001b[39m.\u001b[39m_process_message(msg)\n\u001b[1;32m---> 19\u001b[0m \u001b[39mreturn\u001b[39;00m BroadcastMessenger\u001b[39m.\u001b[39;49m_pyro_sample(msg)\n",
      "File \u001b[1;32m~\\Python\\Python310\\lib\\contextlib.py:79\u001b[0m, in \u001b[0;36mContextDecorator.__call__.<locals>.inner\u001b[1;34m(*args, **kwds)\u001b[0m\n\u001b[0;32m     78\u001b[0m \u001b[39mwith\u001b[39;00m \u001b[39mself\u001b[39m\u001b[39m.\u001b[39m_recreate_cm():\n\u001b[1;32m---> 79\u001b[0m     \u001b[39mreturn\u001b[39;00m func(\u001b[39m*\u001b[39margs, \u001b[39m*\u001b[39m\u001b[39m*\u001b[39mkwds)\n",
      "File \u001b[1;32mc:\\Users\\simon\\.virtualenvs\\probabilistic_programming-fP321iZ6\\lib\\site-packages\\pyro\\poutine\\broadcast_messenger.py:65\u001b[0m, in \u001b[0;36mBroadcastMessenger._pyro_sample\u001b[1;34m(msg)\u001b[0m\n\u001b[0;32m     61\u001b[0m \u001b[39mif\u001b[39;00m (\n\u001b[0;32m     62\u001b[0m     target_batch_shape[f\u001b[39m.\u001b[39mdim] \u001b[39mis\u001b[39;00m \u001b[39mnot\u001b[39;00m \u001b[39mNone\u001b[39;00m\n\u001b[0;32m     63\u001b[0m     \u001b[39mand\u001b[39;00m target_batch_shape[f\u001b[39m.\u001b[39mdim] \u001b[39m!=\u001b[39m f\u001b[39m.\u001b[39msize\n\u001b[0;32m     64\u001b[0m ):\n\u001b[1;32m---> 65\u001b[0m     \u001b[39mraise\u001b[39;00m \u001b[39mValueError\u001b[39;00m(\n\u001b[0;32m     66\u001b[0m         \u001b[39m\"\u001b[39m\u001b[39mShape mismatch inside plate(\u001b[39m\u001b[39m'\u001b[39m\u001b[39m{}\u001b[39;00m\u001b[39m'\u001b[39m\u001b[39m) at site \u001b[39m\u001b[39m{}\u001b[39;00m\u001b[39m dim \u001b[39m\u001b[39m{}\u001b[39;00m\u001b[39m, \u001b[39m\u001b[39m{}\u001b[39;00m\u001b[39m vs \u001b[39m\u001b[39m{}\u001b[39;00m\u001b[39m\"\u001b[39m\u001b[39m.\u001b[39mformat(\n\u001b[0;32m     67\u001b[0m             f\u001b[39m.\u001b[39mname,\n\u001b[0;32m     68\u001b[0m             msg[\u001b[39m\"\u001b[39m\u001b[39mname\u001b[39m\u001b[39m\"\u001b[39m],\n\u001b[0;32m     69\u001b[0m             f\u001b[39m.\u001b[39mdim,\n\u001b[0;32m     70\u001b[0m             f\u001b[39m.\u001b[39msize,\n\u001b[0;32m     71\u001b[0m             target_batch_shape[f\u001b[39m.\u001b[39mdim],\n\u001b[0;32m     72\u001b[0m         )\n\u001b[0;32m     73\u001b[0m     )\n\u001b[0;32m     74\u001b[0m target_batch_shape[f\u001b[39m.\u001b[39mdim] \u001b[39m=\u001b[39m f\u001b[39m.\u001b[39msize\n",
      "\u001b[1;31mValueError\u001b[0m: Shape mismatch inside plate('data_0') at site init_know_0 dim -1, 5 vs 3\n Trace Shapes:      \n  Param Sites:      \n Sample Sites:      \n  mastery dist   | 3\n         value   | 3\ninit_know dist 5 | 3\n         value 5 | 3",
      "\nThe above exception was the direct cause of the following exception:\n",
      "\u001b[1;31mValueError\u001b[0m                                Traceback (most recent call last)",
      "Cell \u001b[1;32mIn[37], line 44\u001b[0m\n\u001b[0;32m     42\u001b[0m num_epochs \u001b[39m=\u001b[39m \u001b[39m1000\u001b[39m\n\u001b[0;32m     43\u001b[0m \u001b[39mfor\u001b[39;00m epoch \u001b[39min\u001b[39;00m \u001b[39mrange\u001b[39m(num_epochs):\n\u001b[1;32m---> 44\u001b[0m     loss \u001b[39m=\u001b[39m svi\u001b[39m.\u001b[39;49mstep(data)\n\u001b[0;32m     45\u001b[0m     \u001b[39mif\u001b[39;00m epoch \u001b[39m%\u001b[39m \u001b[39m100\u001b[39m \u001b[39m==\u001b[39m \u001b[39m0\u001b[39m:\n\u001b[0;32m     46\u001b[0m         \u001b[39mprint\u001b[39m(\u001b[39m\"\u001b[39m\u001b[39mEpoch \u001b[39m\u001b[39m{}\u001b[39;00m\u001b[39m: loss = \u001b[39m\u001b[39m{}\u001b[39;00m\u001b[39m\"\u001b[39m\u001b[39m.\u001b[39mformat(epoch, loss))\n",
      "File \u001b[1;32mc:\\Users\\simon\\.virtualenvs\\probabilistic_programming-fP321iZ6\\lib\\site-packages\\pyro\\infer\\svi.py:145\u001b[0m, in \u001b[0;36mSVI.step\u001b[1;34m(self, *args, **kwargs)\u001b[0m\n\u001b[0;32m    143\u001b[0m \u001b[39m# get loss and compute gradients\u001b[39;00m\n\u001b[0;32m    144\u001b[0m \u001b[39mwith\u001b[39;00m poutine\u001b[39m.\u001b[39mtrace(param_only\u001b[39m=\u001b[39m\u001b[39mTrue\u001b[39;00m) \u001b[39mas\u001b[39;00m param_capture:\n\u001b[1;32m--> 145\u001b[0m     loss \u001b[39m=\u001b[39m \u001b[39mself\u001b[39m\u001b[39m.\u001b[39mloss_and_grads(\u001b[39mself\u001b[39m\u001b[39m.\u001b[39mmodel, \u001b[39mself\u001b[39m\u001b[39m.\u001b[39mguide, \u001b[39m*\u001b[39margs, \u001b[39m*\u001b[39m\u001b[39m*\u001b[39mkwargs)\n\u001b[0;32m    147\u001b[0m params \u001b[39m=\u001b[39m \u001b[39mset\u001b[39m(\n\u001b[0;32m    148\u001b[0m     site[\u001b[39m\"\u001b[39m\u001b[39mvalue\u001b[39m\u001b[39m\"\u001b[39m]\u001b[39m.\u001b[39munconstrained() \u001b[39mfor\u001b[39;00m site \u001b[39min\u001b[39;00m param_capture\u001b[39m.\u001b[39mtrace\u001b[39m.\u001b[39mnodes\u001b[39m.\u001b[39mvalues()\n\u001b[0;32m    149\u001b[0m )\n\u001b[0;32m    151\u001b[0m \u001b[39m# actually perform gradient steps\u001b[39;00m\n\u001b[0;32m    152\u001b[0m \u001b[39m# torch.optim objects gets instantiated for any params that haven't been seen yet\u001b[39;00m\n",
      "File \u001b[1;32mc:\\Users\\simon\\.virtualenvs\\probabilistic_programming-fP321iZ6\\lib\\site-packages\\pyro\\infer\\trace_elbo.py:140\u001b[0m, in \u001b[0;36mTrace_ELBO.loss_and_grads\u001b[1;34m(self, model, guide, *args, **kwargs)\u001b[0m\n\u001b[0;32m    138\u001b[0m loss \u001b[39m=\u001b[39m \u001b[39m0.0\u001b[39m\n\u001b[0;32m    139\u001b[0m \u001b[39m# grab a trace from the generator\u001b[39;00m\n\u001b[1;32m--> 140\u001b[0m \u001b[39mfor\u001b[39;00m model_trace, guide_trace \u001b[39min\u001b[39;00m \u001b[39mself\u001b[39m\u001b[39m.\u001b[39m_get_traces(model, guide, args, kwargs):\n\u001b[0;32m    141\u001b[0m     loss_particle, surrogate_loss_particle \u001b[39m=\u001b[39m \u001b[39mself\u001b[39m\u001b[39m.\u001b[39m_differentiable_loss_particle(\n\u001b[0;32m    142\u001b[0m         model_trace, guide_trace\n\u001b[0;32m    143\u001b[0m     )\n\u001b[0;32m    144\u001b[0m     loss \u001b[39m+\u001b[39m\u001b[39m=\u001b[39m loss_particle \u001b[39m/\u001b[39m \u001b[39mself\u001b[39m\u001b[39m.\u001b[39mnum_particles\n",
      "File \u001b[1;32mc:\\Users\\simon\\.virtualenvs\\probabilistic_programming-fP321iZ6\\lib\\site-packages\\pyro\\infer\\elbo.py:236\u001b[0m, in \u001b[0;36mELBO._get_traces\u001b[1;34m(self, model, guide, args, kwargs)\u001b[0m\n\u001b[0;32m    234\u001b[0m \u001b[39melse\u001b[39;00m:\n\u001b[0;32m    235\u001b[0m     \u001b[39mfor\u001b[39;00m i \u001b[39min\u001b[39;00m \u001b[39mrange\u001b[39m(\u001b[39mself\u001b[39m\u001b[39m.\u001b[39mnum_particles):\n\u001b[1;32m--> 236\u001b[0m         \u001b[39myield\u001b[39;00m \u001b[39mself\u001b[39;49m\u001b[39m.\u001b[39;49m_get_trace(model, guide, args, kwargs)\n",
      "File \u001b[1;32mc:\\Users\\simon\\.virtualenvs\\probabilistic_programming-fP321iZ6\\lib\\site-packages\\pyro\\infer\\trace_elbo.py:57\u001b[0m, in \u001b[0;36mTrace_ELBO._get_trace\u001b[1;34m(self, model, guide, args, kwargs)\u001b[0m\n\u001b[0;32m     52\u001b[0m \u001b[39mdef\u001b[39;00m \u001b[39m_get_trace\u001b[39m(\u001b[39mself\u001b[39m, model, guide, args, kwargs):\n\u001b[0;32m     53\u001b[0m \u001b[39m    \u001b[39m\u001b[39m\"\"\"\u001b[39;00m\n\u001b[0;32m     54\u001b[0m \u001b[39m    Returns a single trace from the guide, and the model that is run\u001b[39;00m\n\u001b[0;32m     55\u001b[0m \u001b[39m    against it.\u001b[39;00m\n\u001b[0;32m     56\u001b[0m \u001b[39m    \"\"\"\u001b[39;00m\n\u001b[1;32m---> 57\u001b[0m     model_trace, guide_trace \u001b[39m=\u001b[39m get_importance_trace(\n\u001b[0;32m     58\u001b[0m         \u001b[39m\"\u001b[39;49m\u001b[39mflat\u001b[39;49m\u001b[39m\"\u001b[39;49m, \u001b[39mself\u001b[39;49m\u001b[39m.\u001b[39;49mmax_plate_nesting, model, guide, args, kwargs\n\u001b[0;32m     59\u001b[0m     )\n\u001b[0;32m     60\u001b[0m     \u001b[39mif\u001b[39;00m is_validation_enabled():\n\u001b[0;32m     61\u001b[0m         check_if_enumerated(guide_trace)\n",
      "File \u001b[1;32mc:\\Users\\simon\\.virtualenvs\\probabilistic_programming-fP321iZ6\\lib\\site-packages\\pyro\\infer\\enum.py:60\u001b[0m, in \u001b[0;36mget_importance_trace\u001b[1;34m(graph_type, max_plate_nesting, model, guide, args, kwargs, detach)\u001b[0m\n\u001b[0;32m     58\u001b[0m     model_trace, guide_trace \u001b[39m=\u001b[39m unwrapped_guide\u001b[39m.\u001b[39mget_traces()\n\u001b[0;32m     59\u001b[0m \u001b[39melse\u001b[39;00m:\n\u001b[1;32m---> 60\u001b[0m     guide_trace \u001b[39m=\u001b[39m poutine\u001b[39m.\u001b[39mtrace(guide, graph_type\u001b[39m=\u001b[39mgraph_type)\u001b[39m.\u001b[39mget_trace(\n\u001b[0;32m     61\u001b[0m         \u001b[39m*\u001b[39margs, \u001b[39m*\u001b[39m\u001b[39m*\u001b[39mkwargs\n\u001b[0;32m     62\u001b[0m     )\n\u001b[0;32m     63\u001b[0m     \u001b[39mif\u001b[39;00m detach:\n\u001b[0;32m     64\u001b[0m         guide_trace\u001b[39m.\u001b[39mdetach_()\n",
      "File \u001b[1;32mc:\\Users\\simon\\.virtualenvs\\probabilistic_programming-fP321iZ6\\lib\\site-packages\\pyro\\poutine\\trace_messenger.py:198\u001b[0m, in \u001b[0;36mTraceHandler.get_trace\u001b[1;34m(self, *args, **kwargs)\u001b[0m\n\u001b[0;32m    190\u001b[0m \u001b[39mdef\u001b[39;00m \u001b[39mget_trace\u001b[39m(\u001b[39mself\u001b[39m, \u001b[39m*\u001b[39margs, \u001b[39m*\u001b[39m\u001b[39m*\u001b[39mkwargs):\n\u001b[0;32m    191\u001b[0m \u001b[39m    \u001b[39m\u001b[39m\"\"\"\u001b[39;00m\n\u001b[0;32m    192\u001b[0m \u001b[39m    :returns: data structure\u001b[39;00m\n\u001b[0;32m    193\u001b[0m \u001b[39m    :rtype: pyro.poutine.Trace\u001b[39;00m\n\u001b[1;32m   (...)\u001b[0m\n\u001b[0;32m    196\u001b[0m \u001b[39m    Calls this poutine and returns its trace instead of the function's return value.\u001b[39;00m\n\u001b[0;32m    197\u001b[0m \u001b[39m    \"\"\"\u001b[39;00m\n\u001b[1;32m--> 198\u001b[0m     \u001b[39mself\u001b[39m(\u001b[39m*\u001b[39margs, \u001b[39m*\u001b[39m\u001b[39m*\u001b[39mkwargs)\n\u001b[0;32m    199\u001b[0m     \u001b[39mreturn\u001b[39;00m \u001b[39mself\u001b[39m\u001b[39m.\u001b[39mmsngr\u001b[39m.\u001b[39mget_trace()\n",
      "File \u001b[1;32mc:\\Users\\simon\\.virtualenvs\\probabilistic_programming-fP321iZ6\\lib\\site-packages\\pyro\\poutine\\trace_messenger.py:180\u001b[0m, in \u001b[0;36mTraceHandler.__call__\u001b[1;34m(self, *args, **kwargs)\u001b[0m\n\u001b[0;32m    178\u001b[0m         exc \u001b[39m=\u001b[39m exc_type(\u001b[39m\"\u001b[39m\u001b[39m{}\u001b[39;00m\u001b[39m\\n\u001b[39;00m\u001b[39m{}\u001b[39;00m\u001b[39m\"\u001b[39m\u001b[39m.\u001b[39mformat(exc_value, shapes))\n\u001b[0;32m    179\u001b[0m         exc \u001b[39m=\u001b[39m exc\u001b[39m.\u001b[39mwith_traceback(traceback)\n\u001b[1;32m--> 180\u001b[0m         \u001b[39mraise\u001b[39;00m exc \u001b[39mfrom\u001b[39;00m \u001b[39me\u001b[39;00m\n\u001b[0;32m    181\u001b[0m     \u001b[39mself\u001b[39m\u001b[39m.\u001b[39mmsngr\u001b[39m.\u001b[39mtrace\u001b[39m.\u001b[39madd_node(\n\u001b[0;32m    182\u001b[0m         \u001b[39m\"\u001b[39m\u001b[39m_RETURN\u001b[39m\u001b[39m\"\u001b[39m, name\u001b[39m=\u001b[39m\u001b[39m\"\u001b[39m\u001b[39m_RETURN\u001b[39m\u001b[39m\"\u001b[39m, \u001b[39mtype\u001b[39m\u001b[39m=\u001b[39m\u001b[39m\"\u001b[39m\u001b[39mreturn\u001b[39m\u001b[39m\"\u001b[39m, value\u001b[39m=\u001b[39mret\n\u001b[0;32m    183\u001b[0m     )\n\u001b[0;32m    184\u001b[0m \u001b[39mreturn\u001b[39;00m ret\n",
      "File \u001b[1;32mc:\\Users\\simon\\.virtualenvs\\probabilistic_programming-fP321iZ6\\lib\\site-packages\\pyro\\poutine\\trace_messenger.py:174\u001b[0m, in \u001b[0;36mTraceHandler.__call__\u001b[1;34m(self, *args, **kwargs)\u001b[0m\n\u001b[0;32m    170\u001b[0m \u001b[39mself\u001b[39m\u001b[39m.\u001b[39mmsngr\u001b[39m.\u001b[39mtrace\u001b[39m.\u001b[39madd_node(\n\u001b[0;32m    171\u001b[0m     \u001b[39m\"\u001b[39m\u001b[39m_INPUT\u001b[39m\u001b[39m\"\u001b[39m, name\u001b[39m=\u001b[39m\u001b[39m\"\u001b[39m\u001b[39m_INPUT\u001b[39m\u001b[39m\"\u001b[39m, \u001b[39mtype\u001b[39m\u001b[39m=\u001b[39m\u001b[39m\"\u001b[39m\u001b[39margs\u001b[39m\u001b[39m\"\u001b[39m, args\u001b[39m=\u001b[39margs, kwargs\u001b[39m=\u001b[39mkwargs\n\u001b[0;32m    172\u001b[0m )\n\u001b[0;32m    173\u001b[0m \u001b[39mtry\u001b[39;00m:\n\u001b[1;32m--> 174\u001b[0m     ret \u001b[39m=\u001b[39m \u001b[39mself\u001b[39m\u001b[39m.\u001b[39mfn(\u001b[39m*\u001b[39margs, \u001b[39m*\u001b[39m\u001b[39m*\u001b[39mkwargs)\n\u001b[0;32m    175\u001b[0m \u001b[39mexcept\u001b[39;00m (\u001b[39mValueError\u001b[39;00m, \u001b[39mRuntimeError\u001b[39;00m) \u001b[39mas\u001b[39;00m e:\n\u001b[0;32m    176\u001b[0m     exc_type, exc_value, traceback \u001b[39m=\u001b[39m sys\u001b[39m.\u001b[39mexc_info()\n",
      "File \u001b[1;32mc:\\Users\\simon\\.virtualenvs\\probabilistic_programming-fP321iZ6\\lib\\site-packages\\pyro\\nn\\module.py:448\u001b[0m, in \u001b[0;36mPyroModule.__call__\u001b[1;34m(self, *args, **kwargs)\u001b[0m\n\u001b[0;32m    446\u001b[0m \u001b[39mdef\u001b[39;00m \u001b[39m__call__\u001b[39m(\u001b[39mself\u001b[39m, \u001b[39m*\u001b[39margs, \u001b[39m*\u001b[39m\u001b[39m*\u001b[39mkwargs):\n\u001b[0;32m    447\u001b[0m     \u001b[39mwith\u001b[39;00m \u001b[39mself\u001b[39m\u001b[39m.\u001b[39m_pyro_context:\n\u001b[1;32m--> 448\u001b[0m         result \u001b[39m=\u001b[39m \u001b[39msuper\u001b[39m()\u001b[39m.\u001b[39m\u001b[39m__call__\u001b[39m(\u001b[39m*\u001b[39margs, \u001b[39m*\u001b[39m\u001b[39m*\u001b[39mkwargs)\n\u001b[0;32m    449\u001b[0m     \u001b[39mif\u001b[39;00m (\n\u001b[0;32m    450\u001b[0m         pyro\u001b[39m.\u001b[39msettings\u001b[39m.\u001b[39mget(\u001b[39m\"\u001b[39m\u001b[39mvalidate_poutine\u001b[39m\u001b[39m\"\u001b[39m)\n\u001b[0;32m    451\u001b[0m         \u001b[39mand\u001b[39;00m \u001b[39mnot\u001b[39;00m \u001b[39mself\u001b[39m\u001b[39m.\u001b[39m_pyro_context\u001b[39m.\u001b[39mactive\n\u001b[0;32m    452\u001b[0m         \u001b[39mand\u001b[39;00m _is_module_local_param_enabled()\n\u001b[0;32m    453\u001b[0m     ):\n\u001b[0;32m    454\u001b[0m         \u001b[39mself\u001b[39m\u001b[39m.\u001b[39m_check_module_local_param_usage()\n",
      "File \u001b[1;32mc:\\Users\\simon\\.virtualenvs\\probabilistic_programming-fP321iZ6\\lib\\site-packages\\torch\\nn\\modules\\module.py:1110\u001b[0m, in \u001b[0;36mModule._call_impl\u001b[1;34m(self, *input, **kwargs)\u001b[0m\n\u001b[0;32m   1106\u001b[0m \u001b[39m# If we don't have any hooks, we want to skip the rest of the logic in\u001b[39;00m\n\u001b[0;32m   1107\u001b[0m \u001b[39m# this function, and just call forward.\u001b[39;00m\n\u001b[0;32m   1108\u001b[0m \u001b[39mif\u001b[39;00m \u001b[39mnot\u001b[39;00m (\u001b[39mself\u001b[39m\u001b[39m.\u001b[39m_backward_hooks \u001b[39mor\u001b[39;00m \u001b[39mself\u001b[39m\u001b[39m.\u001b[39m_forward_hooks \u001b[39mor\u001b[39;00m \u001b[39mself\u001b[39m\u001b[39m.\u001b[39m_forward_pre_hooks \u001b[39mor\u001b[39;00m _global_backward_hooks\n\u001b[0;32m   1109\u001b[0m         \u001b[39mor\u001b[39;00m _global_forward_hooks \u001b[39mor\u001b[39;00m _global_forward_pre_hooks):\n\u001b[1;32m-> 1110\u001b[0m     \u001b[39mreturn\u001b[39;00m forward_call(\u001b[39m*\u001b[39m\u001b[39minput\u001b[39m, \u001b[39m*\u001b[39m\u001b[39m*\u001b[39mkwargs)\n\u001b[0;32m   1111\u001b[0m \u001b[39m# Do not call functions when jit is used\u001b[39;00m\n\u001b[0;32m   1112\u001b[0m full_backward_hooks, non_full_backward_hooks \u001b[39m=\u001b[39m [], []\n",
      "File \u001b[1;32mc:\\Users\\simon\\.virtualenvs\\probabilistic_programming-fP321iZ6\\lib\\site-packages\\pyro\\infer\\autoguide\\guides.py:387\u001b[0m, in \u001b[0;36mAutoDelta.forward\u001b[1;34m(self, *args, **kwargs)\u001b[0m\n\u001b[0;32m    385\u001b[0m \u001b[39m# if we've never run the model before, do so now so we can inspect the model structure\u001b[39;00m\n\u001b[0;32m    386\u001b[0m \u001b[39mif\u001b[39;00m \u001b[39mself\u001b[39m\u001b[39m.\u001b[39mprototype_trace \u001b[39mis\u001b[39;00m \u001b[39mNone\u001b[39;00m:\n\u001b[1;32m--> 387\u001b[0m     \u001b[39mself\u001b[39m\u001b[39m.\u001b[39m_setup_prototype(\u001b[39m*\u001b[39margs, \u001b[39m*\u001b[39m\u001b[39m*\u001b[39mkwargs)\n\u001b[0;32m    389\u001b[0m plates \u001b[39m=\u001b[39m \u001b[39mself\u001b[39m\u001b[39m.\u001b[39m_create_plates(\u001b[39m*\u001b[39margs, \u001b[39m*\u001b[39m\u001b[39m*\u001b[39mkwargs)\n\u001b[0;32m    390\u001b[0m result \u001b[39m=\u001b[39m {}\n",
      "File \u001b[1;32mc:\\Users\\simon\\.virtualenvs\\probabilistic_programming-fP321iZ6\\lib\\site-packages\\pyro\\infer\\autoguide\\guides.py:357\u001b[0m, in \u001b[0;36mAutoDelta._setup_prototype\u001b[1;34m(self, *args, **kwargs)\u001b[0m\n\u001b[0;32m    356\u001b[0m \u001b[39mdef\u001b[39;00m \u001b[39m_setup_prototype\u001b[39m(\u001b[39mself\u001b[39m, \u001b[39m*\u001b[39margs, \u001b[39m*\u001b[39m\u001b[39m*\u001b[39mkwargs):\n\u001b[1;32m--> 357\u001b[0m     \u001b[39msuper\u001b[39m()\u001b[39m.\u001b[39m_setup_prototype(\u001b[39m*\u001b[39margs, \u001b[39m*\u001b[39m\u001b[39m*\u001b[39mkwargs)\n\u001b[0;32m    359\u001b[0m     \u001b[39m# Initialize guide params\u001b[39;00m\n\u001b[0;32m    360\u001b[0m     \u001b[39mfor\u001b[39;00m name, site \u001b[39min\u001b[39;00m \u001b[39mself\u001b[39m\u001b[39m.\u001b[39mprototype_trace\u001b[39m.\u001b[39miter_stochastic_nodes():\n",
      "File \u001b[1;32mc:\\Users\\simon\\.virtualenvs\\probabilistic_programming-fP321iZ6\\lib\\site-packages\\pyro\\infer\\autoguide\\guides.py:157\u001b[0m, in \u001b[0;36mAutoGuide._setup_prototype\u001b[1;34m(self, *args, **kwargs)\u001b[0m\n\u001b[0;32m    154\u001b[0m \u001b[39mdef\u001b[39;00m \u001b[39m_setup_prototype\u001b[39m(\u001b[39mself\u001b[39m, \u001b[39m*\u001b[39margs, \u001b[39m*\u001b[39m\u001b[39m*\u001b[39mkwargs):\n\u001b[0;32m    155\u001b[0m     \u001b[39m# run the model so we can inspect its structure\u001b[39;00m\n\u001b[0;32m    156\u001b[0m     model \u001b[39m=\u001b[39m poutine\u001b[39m.\u001b[39mblock(\u001b[39mself\u001b[39m\u001b[39m.\u001b[39mmodel, \u001b[39mself\u001b[39m\u001b[39m.\u001b[39m_prototype_hide_fn)\n\u001b[1;32m--> 157\u001b[0m     \u001b[39mself\u001b[39m\u001b[39m.\u001b[39mprototype_trace \u001b[39m=\u001b[39m poutine\u001b[39m.\u001b[39mblock(poutine\u001b[39m.\u001b[39mtrace(model)\u001b[39m.\u001b[39mget_trace)(\n\u001b[0;32m    158\u001b[0m         \u001b[39m*\u001b[39margs, \u001b[39m*\u001b[39m\u001b[39m*\u001b[39mkwargs\n\u001b[0;32m    159\u001b[0m     )\n\u001b[0;32m    160\u001b[0m     \u001b[39mif\u001b[39;00m \u001b[39mself\u001b[39m\u001b[39m.\u001b[39mmaster \u001b[39mis\u001b[39;00m \u001b[39mnot\u001b[39;00m \u001b[39mNone\u001b[39;00m:\n\u001b[0;32m    161\u001b[0m         \u001b[39mself\u001b[39m\u001b[39m.\u001b[39mmaster()\u001b[39m.\u001b[39m_check_prototype(\u001b[39mself\u001b[39m\u001b[39m.\u001b[39mprototype_trace)\n",
      "File \u001b[1;32mc:\\Users\\simon\\.virtualenvs\\probabilistic_programming-fP321iZ6\\lib\\site-packages\\pyro\\poutine\\messenger.py:12\u001b[0m, in \u001b[0;36m_context_wrap\u001b[1;34m(context, fn, *args, **kwargs)\u001b[0m\n\u001b[0;32m     10\u001b[0m \u001b[39mdef\u001b[39;00m \u001b[39m_context_wrap\u001b[39m(context, fn, \u001b[39m*\u001b[39margs, \u001b[39m*\u001b[39m\u001b[39m*\u001b[39mkwargs):\n\u001b[0;32m     11\u001b[0m     \u001b[39mwith\u001b[39;00m context:\n\u001b[1;32m---> 12\u001b[0m         \u001b[39mreturn\u001b[39;00m fn(\u001b[39m*\u001b[39margs, \u001b[39m*\u001b[39m\u001b[39m*\u001b[39mkwargs)\n",
      "File \u001b[1;32mc:\\Users\\simon\\.virtualenvs\\probabilistic_programming-fP321iZ6\\lib\\site-packages\\pyro\\poutine\\trace_messenger.py:198\u001b[0m, in \u001b[0;36mTraceHandler.get_trace\u001b[1;34m(self, *args, **kwargs)\u001b[0m\n\u001b[0;32m    190\u001b[0m \u001b[39mdef\u001b[39;00m \u001b[39mget_trace\u001b[39m(\u001b[39mself\u001b[39m, \u001b[39m*\u001b[39margs, \u001b[39m*\u001b[39m\u001b[39m*\u001b[39mkwargs):\n\u001b[0;32m    191\u001b[0m \u001b[39m    \u001b[39m\u001b[39m\"\"\"\u001b[39;00m\n\u001b[0;32m    192\u001b[0m \u001b[39m    :returns: data structure\u001b[39;00m\n\u001b[0;32m    193\u001b[0m \u001b[39m    :rtype: pyro.poutine.Trace\u001b[39;00m\n\u001b[1;32m   (...)\u001b[0m\n\u001b[0;32m    196\u001b[0m \u001b[39m    Calls this poutine and returns its trace instead of the function's return value.\u001b[39;00m\n\u001b[0;32m    197\u001b[0m \u001b[39m    \"\"\"\u001b[39;00m\n\u001b[1;32m--> 198\u001b[0m     \u001b[39mself\u001b[39m(\u001b[39m*\u001b[39margs, \u001b[39m*\u001b[39m\u001b[39m*\u001b[39mkwargs)\n\u001b[0;32m    199\u001b[0m     \u001b[39mreturn\u001b[39;00m \u001b[39mself\u001b[39m\u001b[39m.\u001b[39mmsngr\u001b[39m.\u001b[39mget_trace()\n",
      "File \u001b[1;32mc:\\Users\\simon\\.virtualenvs\\probabilistic_programming-fP321iZ6\\lib\\site-packages\\pyro\\poutine\\trace_messenger.py:180\u001b[0m, in \u001b[0;36mTraceHandler.__call__\u001b[1;34m(self, *args, **kwargs)\u001b[0m\n\u001b[0;32m    178\u001b[0m         exc \u001b[39m=\u001b[39m exc_type(\u001b[39m\"\u001b[39m\u001b[39m{}\u001b[39;00m\u001b[39m\\n\u001b[39;00m\u001b[39m{}\u001b[39;00m\u001b[39m\"\u001b[39m\u001b[39m.\u001b[39mformat(exc_value, shapes))\n\u001b[0;32m    179\u001b[0m         exc \u001b[39m=\u001b[39m exc\u001b[39m.\u001b[39mwith_traceback(traceback)\n\u001b[1;32m--> 180\u001b[0m         \u001b[39mraise\u001b[39;00m exc \u001b[39mfrom\u001b[39;00m \u001b[39me\u001b[39;00m\n\u001b[0;32m    181\u001b[0m     \u001b[39mself\u001b[39m\u001b[39m.\u001b[39mmsngr\u001b[39m.\u001b[39mtrace\u001b[39m.\u001b[39madd_node(\n\u001b[0;32m    182\u001b[0m         \u001b[39m\"\u001b[39m\u001b[39m_RETURN\u001b[39m\u001b[39m\"\u001b[39m, name\u001b[39m=\u001b[39m\u001b[39m\"\u001b[39m\u001b[39m_RETURN\u001b[39m\u001b[39m\"\u001b[39m, \u001b[39mtype\u001b[39m\u001b[39m=\u001b[39m\u001b[39m\"\u001b[39m\u001b[39mreturn\u001b[39m\u001b[39m\"\u001b[39m, value\u001b[39m=\u001b[39mret\n\u001b[0;32m    183\u001b[0m     )\n\u001b[0;32m    184\u001b[0m \u001b[39mreturn\u001b[39;00m ret\n",
      "File \u001b[1;32mc:\\Users\\simon\\.virtualenvs\\probabilistic_programming-fP321iZ6\\lib\\site-packages\\pyro\\poutine\\trace_messenger.py:174\u001b[0m, in \u001b[0;36mTraceHandler.__call__\u001b[1;34m(self, *args, **kwargs)\u001b[0m\n\u001b[0;32m    170\u001b[0m \u001b[39mself\u001b[39m\u001b[39m.\u001b[39mmsngr\u001b[39m.\u001b[39mtrace\u001b[39m.\u001b[39madd_node(\n\u001b[0;32m    171\u001b[0m     \u001b[39m\"\u001b[39m\u001b[39m_INPUT\u001b[39m\u001b[39m\"\u001b[39m, name\u001b[39m=\u001b[39m\u001b[39m\"\u001b[39m\u001b[39m_INPUT\u001b[39m\u001b[39m\"\u001b[39m, \u001b[39mtype\u001b[39m\u001b[39m=\u001b[39m\u001b[39m\"\u001b[39m\u001b[39margs\u001b[39m\u001b[39m\"\u001b[39m, args\u001b[39m=\u001b[39margs, kwargs\u001b[39m=\u001b[39mkwargs\n\u001b[0;32m    172\u001b[0m )\n\u001b[0;32m    173\u001b[0m \u001b[39mtry\u001b[39;00m:\n\u001b[1;32m--> 174\u001b[0m     ret \u001b[39m=\u001b[39m \u001b[39mself\u001b[39m\u001b[39m.\u001b[39mfn(\u001b[39m*\u001b[39margs, \u001b[39m*\u001b[39m\u001b[39m*\u001b[39mkwargs)\n\u001b[0;32m    175\u001b[0m \u001b[39mexcept\u001b[39;00m (\u001b[39mValueError\u001b[39;00m, \u001b[39mRuntimeError\u001b[39;00m) \u001b[39mas\u001b[39;00m e:\n\u001b[0;32m    176\u001b[0m     exc_type, exc_value, traceback \u001b[39m=\u001b[39m sys\u001b[39m.\u001b[39mexc_info()\n",
      "File \u001b[1;32mc:\\Users\\simon\\.virtualenvs\\probabilistic_programming-fP321iZ6\\lib\\site-packages\\pyro\\poutine\\messenger.py:12\u001b[0m, in \u001b[0;36m_context_wrap\u001b[1;34m(context, fn, *args, **kwargs)\u001b[0m\n\u001b[0;32m     10\u001b[0m \u001b[39mdef\u001b[39;00m \u001b[39m_context_wrap\u001b[39m(context, fn, \u001b[39m*\u001b[39margs, \u001b[39m*\u001b[39m\u001b[39m*\u001b[39mkwargs):\n\u001b[0;32m     11\u001b[0m     \u001b[39mwith\u001b[39;00m context:\n\u001b[1;32m---> 12\u001b[0m         \u001b[39mreturn\u001b[39;00m fn(\u001b[39m*\u001b[39margs, \u001b[39m*\u001b[39m\u001b[39m*\u001b[39mkwargs)\n",
      "File \u001b[1;32mc:\\Users\\simon\\.virtualenvs\\probabilistic_programming-fP321iZ6\\lib\\site-packages\\pyro\\poutine\\messenger.py:12\u001b[0m, in \u001b[0;36m_context_wrap\u001b[1;34m(context, fn, *args, **kwargs)\u001b[0m\n\u001b[0;32m     10\u001b[0m \u001b[39mdef\u001b[39;00m \u001b[39m_context_wrap\u001b[39m(context, fn, \u001b[39m*\u001b[39margs, \u001b[39m*\u001b[39m\u001b[39m*\u001b[39mkwargs):\n\u001b[0;32m     11\u001b[0m     \u001b[39mwith\u001b[39;00m context:\n\u001b[1;32m---> 12\u001b[0m         \u001b[39mreturn\u001b[39;00m fn(\u001b[39m*\u001b[39margs, \u001b[39m*\u001b[39m\u001b[39m*\u001b[39mkwargs)\n",
      "File \u001b[1;32mc:\\Users\\simon\\.virtualenvs\\probabilistic_programming-fP321iZ6\\lib\\site-packages\\pyro\\poutine\\messenger.py:12\u001b[0m, in \u001b[0;36m_context_wrap\u001b[1;34m(context, fn, *args, **kwargs)\u001b[0m\n\u001b[0;32m     10\u001b[0m \u001b[39mdef\u001b[39;00m \u001b[39m_context_wrap\u001b[39m(context, fn, \u001b[39m*\u001b[39margs, \u001b[39m*\u001b[39m\u001b[39m*\u001b[39mkwargs):\n\u001b[0;32m     11\u001b[0m     \u001b[39mwith\u001b[39;00m context:\n\u001b[1;32m---> 12\u001b[0m         \u001b[39mreturn\u001b[39;00m fn(\u001b[39m*\u001b[39margs, \u001b[39m*\u001b[39m\u001b[39m*\u001b[39mkwargs)\n",
      "Cell \u001b[1;32mIn[37], line 27\u001b[0m, in \u001b[0;36mbkt\u001b[1;34m(data)\u001b[0m\n\u001b[0;32m     25\u001b[0m         p_know \u001b[39m=\u001b[39m init_know \u001b[39m*\u001b[39m mastery\n\u001b[0;32m     26\u001b[0m         \u001b[39m# Update knowledge state based on response\u001b[39;00m\n\u001b[1;32m---> 27\u001b[0m         init_know \u001b[39m=\u001b[39m pyro\u001b[39m.\u001b[39;49msample(\u001b[39m\"\u001b[39;49m\u001b[39minit_know_\u001b[39;49m\u001b[39m{}\u001b[39;49;00m\u001b[39m\"\u001b[39;49m\u001b[39m.\u001b[39;49mformat(i), \n\u001b[0;32m     28\u001b[0m                                 dist\u001b[39m.\u001b[39;49mBeta(p_know \u001b[39m*\u001b[39;49m (\u001b[39m1\u001b[39;49m \u001b[39m-\u001b[39;49m data[i]) \u001b[39m+\u001b[39;49m (\u001b[39m1\u001b[39;49m \u001b[39m-\u001b[39;49m p_know) \u001b[39m*\u001b[39;49m data[i], \n\u001b[0;32m     29\u001b[0m                                           (\u001b[39m1\u001b[39;49m \u001b[39m-\u001b[39;49m p_know) \u001b[39m*\u001b[39;49m (\u001b[39m1\u001b[39;49m \u001b[39m-\u001b[39;49m data[i]) \u001b[39m+\u001b[39;49m p_know \u001b[39m*\u001b[39;49m data[i])\n\u001b[0;32m     30\u001b[0m                                 \u001b[39m.\u001b[39;49mmask(data[i]))\n\u001b[0;32m     32\u001b[0m \u001b[39mreturn\u001b[39;00m init_know\n",
      "File \u001b[1;32mc:\\Users\\simon\\.virtualenvs\\probabilistic_programming-fP321iZ6\\lib\\site-packages\\pyro\\primitives.py:163\u001b[0m, in \u001b[0;36msample\u001b[1;34m(name, fn, *args, **kwargs)\u001b[0m\n\u001b[0;32m    146\u001b[0m msg \u001b[39m=\u001b[39m {\n\u001b[0;32m    147\u001b[0m     \u001b[39m\"\u001b[39m\u001b[39mtype\u001b[39m\u001b[39m\"\u001b[39m: \u001b[39m\"\u001b[39m\u001b[39msample\u001b[39m\u001b[39m\"\u001b[39m,\n\u001b[0;32m    148\u001b[0m     \u001b[39m\"\u001b[39m\u001b[39mname\u001b[39m\u001b[39m\"\u001b[39m: name,\n\u001b[1;32m   (...)\u001b[0m\n\u001b[0;32m    160\u001b[0m     \u001b[39m\"\u001b[39m\u001b[39mcontinuation\u001b[39m\u001b[39m\"\u001b[39m: \u001b[39mNone\u001b[39;00m,\n\u001b[0;32m    161\u001b[0m }\n\u001b[0;32m    162\u001b[0m \u001b[39m# apply the stack and return its return value\u001b[39;00m\n\u001b[1;32m--> 163\u001b[0m apply_stack(msg)\n\u001b[0;32m    164\u001b[0m \u001b[39mreturn\u001b[39;00m msg[\u001b[39m\"\u001b[39m\u001b[39mvalue\u001b[39m\u001b[39m\"\u001b[39m]\n",
      "File \u001b[1;32mc:\\Users\\simon\\.virtualenvs\\probabilistic_programming-fP321iZ6\\lib\\site-packages\\pyro\\poutine\\runtime.py:213\u001b[0m, in \u001b[0;36mapply_stack\u001b[1;34m(initial_msg)\u001b[0m\n\u001b[0;32m    209\u001b[0m \u001b[39mfor\u001b[39;00m frame \u001b[39min\u001b[39;00m \u001b[39mreversed\u001b[39m(stack):\n\u001b[0;32m    211\u001b[0m     pointer \u001b[39m=\u001b[39m pointer \u001b[39m+\u001b[39m \u001b[39m1\u001b[39m\n\u001b[1;32m--> 213\u001b[0m     frame\u001b[39m.\u001b[39;49m_process_message(msg)\n\u001b[0;32m    215\u001b[0m     \u001b[39mif\u001b[39;00m msg[\u001b[39m\"\u001b[39m\u001b[39mstop\u001b[39m\u001b[39m\"\u001b[39m]:\n\u001b[0;32m    216\u001b[0m         \u001b[39mbreak\u001b[39;00m\n",
      "File \u001b[1;32mc:\\Users\\simon\\.virtualenvs\\probabilistic_programming-fP321iZ6\\lib\\site-packages\\pyro\\poutine\\plate_messenger.py:19\u001b[0m, in \u001b[0;36mPlateMessenger._process_message\u001b[1;34m(self, msg)\u001b[0m\n\u001b[0;32m     17\u001b[0m \u001b[39mdef\u001b[39;00m \u001b[39m_process_message\u001b[39m(\u001b[39mself\u001b[39m, msg):\n\u001b[0;32m     18\u001b[0m     \u001b[39msuper\u001b[39m()\u001b[39m.\u001b[39m_process_message(msg)\n\u001b[1;32m---> 19\u001b[0m     \u001b[39mreturn\u001b[39;00m BroadcastMessenger\u001b[39m.\u001b[39;49m_pyro_sample(msg)\n",
      "File \u001b[1;32m~\\Python\\Python310\\lib\\contextlib.py:79\u001b[0m, in \u001b[0;36mContextDecorator.__call__.<locals>.inner\u001b[1;34m(*args, **kwds)\u001b[0m\n\u001b[0;32m     76\u001b[0m \u001b[39m@wraps\u001b[39m(func)\n\u001b[0;32m     77\u001b[0m \u001b[39mdef\u001b[39;00m \u001b[39minner\u001b[39m(\u001b[39m*\u001b[39margs, \u001b[39m*\u001b[39m\u001b[39m*\u001b[39mkwds):\n\u001b[0;32m     78\u001b[0m     \u001b[39mwith\u001b[39;00m \u001b[39mself\u001b[39m\u001b[39m.\u001b[39m_recreate_cm():\n\u001b[1;32m---> 79\u001b[0m         \u001b[39mreturn\u001b[39;00m func(\u001b[39m*\u001b[39margs, \u001b[39m*\u001b[39m\u001b[39m*\u001b[39mkwds)\n",
      "File \u001b[1;32mc:\\Users\\simon\\.virtualenvs\\probabilistic_programming-fP321iZ6\\lib\\site-packages\\pyro\\poutine\\broadcast_messenger.py:65\u001b[0m, in \u001b[0;36mBroadcastMessenger._pyro_sample\u001b[1;34m(msg)\u001b[0m\n\u001b[0;32m     58\u001b[0m     target_batch_shape \u001b[39m=\u001b[39m [\u001b[39mNone\u001b[39;00m] \u001b[39m*\u001b[39m (\n\u001b[0;32m     59\u001b[0m         \u001b[39m-\u001b[39mf\u001b[39m.\u001b[39mdim \u001b[39m-\u001b[39m \u001b[39mlen\u001b[39m(target_batch_shape)\n\u001b[0;32m     60\u001b[0m     ) \u001b[39m+\u001b[39m target_batch_shape\n\u001b[0;32m     61\u001b[0m     \u001b[39mif\u001b[39;00m (\n\u001b[0;32m     62\u001b[0m         target_batch_shape[f\u001b[39m.\u001b[39mdim] \u001b[39mis\u001b[39;00m \u001b[39mnot\u001b[39;00m \u001b[39mNone\u001b[39;00m\n\u001b[0;32m     63\u001b[0m         \u001b[39mand\u001b[39;00m target_batch_shape[f\u001b[39m.\u001b[39mdim] \u001b[39m!=\u001b[39m f\u001b[39m.\u001b[39msize\n\u001b[0;32m     64\u001b[0m     ):\n\u001b[1;32m---> 65\u001b[0m         \u001b[39mraise\u001b[39;00m \u001b[39mValueError\u001b[39;00m(\n\u001b[0;32m     66\u001b[0m             \u001b[39m\"\u001b[39m\u001b[39mShape mismatch inside plate(\u001b[39m\u001b[39m'\u001b[39m\u001b[39m{}\u001b[39;00m\u001b[39m'\u001b[39m\u001b[39m) at site \u001b[39m\u001b[39m{}\u001b[39;00m\u001b[39m dim \u001b[39m\u001b[39m{}\u001b[39;00m\u001b[39m, \u001b[39m\u001b[39m{}\u001b[39;00m\u001b[39m vs \u001b[39m\u001b[39m{}\u001b[39;00m\u001b[39m\"\u001b[39m\u001b[39m.\u001b[39mformat(\n\u001b[0;32m     67\u001b[0m                 f\u001b[39m.\u001b[39mname,\n\u001b[0;32m     68\u001b[0m                 msg[\u001b[39m\"\u001b[39m\u001b[39mname\u001b[39m\u001b[39m\"\u001b[39m],\n\u001b[0;32m     69\u001b[0m                 f\u001b[39m.\u001b[39mdim,\n\u001b[0;32m     70\u001b[0m                 f\u001b[39m.\u001b[39msize,\n\u001b[0;32m     71\u001b[0m                 target_batch_shape[f\u001b[39m.\u001b[39mdim],\n\u001b[0;32m     72\u001b[0m             )\n\u001b[0;32m     73\u001b[0m         )\n\u001b[0;32m     74\u001b[0m     target_batch_shape[f\u001b[39m.\u001b[39mdim] \u001b[39m=\u001b[39m f\u001b[39m.\u001b[39msize\n\u001b[0;32m     75\u001b[0m \u001b[39m# Starting from the right, if expected size is None at an index,\u001b[39;00m\n\u001b[0;32m     76\u001b[0m \u001b[39m# set it to the actual size if it exists, else 1.\u001b[39;00m\n",
      "\u001b[1;31mValueError\u001b[0m: Shape mismatch inside plate('data_0') at site init_know_0 dim -1, 5 vs 3\n Trace Shapes:      \n  Param Sites:      \n Sample Sites:      \n  mastery dist   | 3\n         value   | 3\ninit_know dist 5 | 3\n         value 5 | 3\nTrace Shapes:\n Param Sites:\nSample Sites:"
     ]
    }
   ],
   "source": [
    "import torch\n",
    "import pyro\n",
    "import pyro.distributions as dist\n",
    "from pyro.infer import SVI, Trace_ELBO\n",
    "from pyro.infer.autoguide import AutoDelta\n",
    "from pyro.optim import Adam\n",
    "from torch.distributions import constraints\n",
    "\n",
    "\n",
    "# Define model\n",
    "def bkt(data):\n",
    "    # Priors\n",
    "    mastery = pyro.sample(\"mastery\", dist.Beta(1, 1).expand([num_skills]).to_event(1))\n",
    "    init_know = pyro.sample(\"init_know\", dist.Beta(1, 1).expand([num_students, num_skills]).to_event(1))\n",
    "    \n",
    "    # Transition model\n",
    "    for i in range(num_obs):\n",
    "        with pyro.plate(\"data_{}\".format(i), num_students):\n",
    "            # Compute probability of correct response for each student and skill\n",
    "            p_know = init_know * mastery\n",
    "            # Update knowledge state based on response\n",
    "            init_know = pyro.sample(\"init_know_{}\".format(i), \n",
    "                                    dist.Beta(p_know * (1 - data[i]) + (1 - p_know) * data[i], \n",
    "                                              (1 - p_know) * (1 - data[i]) + p_know * data[i])\n",
    "                                    .mask(data[i]))\n",
    "    \n",
    "    return init_know\n",
    "\n",
    "# Define guide\n",
    "guide = AutoDelta(pyro.poutine.block(bkt, expose=['mastery', 'init_know']))\n",
    "\n",
    "# Run inference using SVI\n",
    "optim = Adam({'lr': 0.01, 'betas': [0.8, 0.99]})\n",
    "svi = SVI(bkt, guide, optim, loss=Trace_ELBO())\n",
    "\n",
    "# Train the model\n",
    "num_epochs = 1000\n",
    "for epoch in range(num_epochs):\n",
    "    loss = svi.step(data)\n",
    "    if epoch % 100 == 0:\n",
    "        print(\"Epoch {}: loss = {}\".format(epoch, loss))\n",
    "\n",
    "# Sample from posterior distribution and apply constraints\n",
    "posterior_samples = [guide() for _ in range(1000)]\n",
    "posterior_samples = [torch.clamp(s, min=0, max=1) for s in posterior_samples]\n"
   ]
  },
  {
   "cell_type": "code",
   "execution_count": null,
   "metadata": {},
   "outputs": [],
   "source": []
  }
 ],
 "metadata": {
  "kernelspec": {
   "display_name": "probabilistic_programming-fP321iZ6",
   "language": "python",
   "name": "python3"
  },
  "language_info": {
   "codemirror_mode": {
    "name": "ipython",
    "version": 3
   },
   "file_extension": ".py",
   "mimetype": "text/x-python",
   "name": "python",
   "nbconvert_exporter": "python",
   "pygments_lexer": "ipython3",
   "version": "3.10.4"
  },
  "orig_nbformat": 4,
  "vscode": {
   "interpreter": {
    "hash": "50d8be020daa76b308eb98d7ffc3d29cde06bfb7e6d2a0ff6e3c6f64d87a2ce4"
   }
  }
 },
 "nbformat": 4,
 "nbformat_minor": 2
}
